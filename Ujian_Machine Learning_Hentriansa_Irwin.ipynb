{
 "cells": [
  {
   "cell_type": "code",
   "execution_count": 1,
   "metadata": {
    "ExecuteTime": {
     "end_time": "2020-08-11T06:51:36.059415Z",
     "start_time": "2020-08-11T06:51:34.027727Z"
    }
   },
   "outputs": [],
   "source": [
    "import numpy as np\n",
    "import pandas as pd\n",
    "import matplotlib.pyplot as plt\n",
    "import seaborn as sns\n",
    "\n",
    "from sklearn.preprocessing import LabelEncoder,RobustScaler, OneHotEncoder\n",
    "\n",
    "from sklearn.model_selection import train_test_split\n",
    "from sklearn.linear_model import LogisticRegression\n",
    "\n",
    "from sklearn.tree import DecisionTreeClassifier\n",
    "from sklearn.ensemble import RandomForestClassifier\n",
    "from sklearn.neighbors import KNeighborsClassifier\n",
    "from sklearn.metrics import confusion_matrix\n",
    "from sklearn.metrics import classification_report, precision_score, recall_score, f1_score, accuracy_score\n",
    "from sklearn.model_selection import RandomizedSearchCV\n",
    "from sklearn.metrics import accuracy_score\n",
    "\n",
    "import warnings\n",
    "warnings.filterwarnings('ignore')"
   ]
  },
  {
   "cell_type": "markdown",
   "metadata": {},
   "source": [
    "# A. Data Cleaning & Preprocessing (15 poin)\n",
    "\n",
    "**Batasan Data untuk Ujian**\n",
    "\n",
    "- Ukuran data yang digunakan adalah 5000 baris (rows) awal [:5000].\n",
    "\n",
    "- Variabel yang dipakai berjumlah 16 kolom, yaitu: ['hotel', 'is_canceled', 'adults', 'children', 'babies', 'meal', 'country', 'market_segment', 'distribution_channel', 'reserved_room_type', 'booking_changes', 'deposit_type', 'days_in_waiting_list', 'customer_type', 'required_car_parking_spaces', 'total_of_special_requests']"
   ]
  },
  {
   "cell_type": "markdown",
   "metadata": {},
   "source": [
    "# Hotel Booking Cancelation\n",
    "\n",
    "**Read DataSet as a `DataFrame`**"
   ]
  },
  {
   "cell_type": "code",
   "execution_count": 2,
   "metadata": {
    "ExecuteTime": {
     "end_time": "2020-08-11T06:51:36.659091Z",
     "start_time": "2020-08-11T06:51:36.066412Z"
    }
   },
   "outputs": [],
   "source": [
    "dataset = pd.read_csv('hotel_bookings.csv')\n",
    "df = dataset.copy()"
   ]
  },
  {
   "cell_type": "code",
   "execution_count": 3,
   "metadata": {
    "ExecuteTime": {
     "end_time": "2020-08-11T06:51:36.704063Z",
     "start_time": "2020-08-11T06:51:36.662090Z"
    }
   },
   "outputs": [
    {
     "data": {
      "text/html": [
       "<div>\n",
       "<style scoped>\n",
       "    .dataframe tbody tr th:only-of-type {\n",
       "        vertical-align: middle;\n",
       "    }\n",
       "\n",
       "    .dataframe tbody tr th {\n",
       "        vertical-align: top;\n",
       "    }\n",
       "\n",
       "    .dataframe thead th {\n",
       "        text-align: right;\n",
       "    }\n",
       "</style>\n",
       "<table border=\"1\" class=\"dataframe\">\n",
       "  <thead>\n",
       "    <tr style=\"text-align: right;\">\n",
       "      <th></th>\n",
       "      <th>hotel</th>\n",
       "      <th>is_canceled</th>\n",
       "      <th>lead_time</th>\n",
       "      <th>arrival_date_year</th>\n",
       "      <th>arrival_date_month</th>\n",
       "      <th>arrival_date_week_number</th>\n",
       "      <th>arrival_date_day_of_month</th>\n",
       "      <th>stays_in_weekend_nights</th>\n",
       "      <th>stays_in_week_nights</th>\n",
       "      <th>adults</th>\n",
       "      <th>...</th>\n",
       "      <th>deposit_type</th>\n",
       "      <th>agent</th>\n",
       "      <th>company</th>\n",
       "      <th>days_in_waiting_list</th>\n",
       "      <th>customer_type</th>\n",
       "      <th>adr</th>\n",
       "      <th>required_car_parking_spaces</th>\n",
       "      <th>total_of_special_requests</th>\n",
       "      <th>reservation_status</th>\n",
       "      <th>reservation_status_date</th>\n",
       "    </tr>\n",
       "  </thead>\n",
       "  <tbody>\n",
       "    <tr>\n",
       "      <th>0</th>\n",
       "      <td>Resort Hotel</td>\n",
       "      <td>0</td>\n",
       "      <td>342</td>\n",
       "      <td>2015</td>\n",
       "      <td>July</td>\n",
       "      <td>27</td>\n",
       "      <td>1</td>\n",
       "      <td>0</td>\n",
       "      <td>0</td>\n",
       "      <td>2</td>\n",
       "      <td>...</td>\n",
       "      <td>No Deposit</td>\n",
       "      <td>NaN</td>\n",
       "      <td>NaN</td>\n",
       "      <td>0</td>\n",
       "      <td>Transient</td>\n",
       "      <td>0.0</td>\n",
       "      <td>0</td>\n",
       "      <td>0</td>\n",
       "      <td>Check-Out</td>\n",
       "      <td>2015-07-01</td>\n",
       "    </tr>\n",
       "    <tr>\n",
       "      <th>1</th>\n",
       "      <td>Resort Hotel</td>\n",
       "      <td>0</td>\n",
       "      <td>737</td>\n",
       "      <td>2015</td>\n",
       "      <td>July</td>\n",
       "      <td>27</td>\n",
       "      <td>1</td>\n",
       "      <td>0</td>\n",
       "      <td>0</td>\n",
       "      <td>2</td>\n",
       "      <td>...</td>\n",
       "      <td>No Deposit</td>\n",
       "      <td>NaN</td>\n",
       "      <td>NaN</td>\n",
       "      <td>0</td>\n",
       "      <td>Transient</td>\n",
       "      <td>0.0</td>\n",
       "      <td>0</td>\n",
       "      <td>0</td>\n",
       "      <td>Check-Out</td>\n",
       "      <td>2015-07-01</td>\n",
       "    </tr>\n",
       "  </tbody>\n",
       "</table>\n",
       "<p>2 rows × 32 columns</p>\n",
       "</div>"
      ],
      "text/plain": [
       "          hotel  is_canceled  lead_time  arrival_date_year arrival_date_month  \\\n",
       "0  Resort Hotel            0        342               2015               July   \n",
       "1  Resort Hotel            0        737               2015               July   \n",
       "\n",
       "   arrival_date_week_number  arrival_date_day_of_month  \\\n",
       "0                        27                          1   \n",
       "1                        27                          1   \n",
       "\n",
       "   stays_in_weekend_nights  stays_in_week_nights  adults  ...  deposit_type  \\\n",
       "0                        0                     0       2  ...    No Deposit   \n",
       "1                        0                     0       2  ...    No Deposit   \n",
       "\n",
       "   agent company days_in_waiting_list customer_type  adr  \\\n",
       "0    NaN     NaN                    0     Transient  0.0   \n",
       "1    NaN     NaN                    0     Transient  0.0   \n",
       "\n",
       "   required_car_parking_spaces  total_of_special_requests  reservation_status  \\\n",
       "0                            0                          0           Check-Out   \n",
       "1                            0                          0           Check-Out   \n",
       "\n",
       "  reservation_status_date  \n",
       "0              2015-07-01  \n",
       "1              2015-07-01  \n",
       "\n",
       "[2 rows x 32 columns]"
      ]
     },
     "metadata": {},
     "output_type": "display_data"
    },
    {
     "data": {
      "text/plain": [
       "(119390, 32)"
      ]
     },
     "metadata": {},
     "output_type": "display_data"
    }
   ],
   "source": [
    "display(df.head(2), df.shape)"
   ]
  },
  {
   "cell_type": "code",
   "execution_count": 4,
   "metadata": {
    "ExecuteTime": {
     "end_time": "2020-08-11T06:51:36.741050Z",
     "start_time": "2020-08-11T06:51:36.706064Z"
    }
   },
   "outputs": [],
   "source": [
    "df = df[['hotel', 'is_canceled', 'adults', 'children', 'babies', \n",
    "         'meal', 'country', 'market_segment', 'distribution_channel', \n",
    "         'reserved_room_type', 'booking_changes', 'deposit_type', 'days_in_waiting_list', 'customer_type',\n",
    "         'required_car_parking_spaces', 'total_of_special_requests']][0:4999]"
   ]
  },
  {
   "cell_type": "markdown",
   "metadata": {},
   "source": [
    "Mengikuti Instruksi Ujian"
   ]
  },
  {
   "cell_type": "code",
   "execution_count": 5,
   "metadata": {
    "ExecuteTime": {
     "end_time": "2020-08-11T06:51:36.795029Z",
     "start_time": "2020-08-11T06:51:36.755042Z"
    },
    "scrolled": true
   },
   "outputs": [
    {
     "data": {
      "text/html": [
       "<div>\n",
       "<style scoped>\n",
       "    .dataframe tbody tr th:only-of-type {\n",
       "        vertical-align: middle;\n",
       "    }\n",
       "\n",
       "    .dataframe tbody tr th {\n",
       "        vertical-align: top;\n",
       "    }\n",
       "\n",
       "    .dataframe thead th {\n",
       "        text-align: right;\n",
       "    }\n",
       "</style>\n",
       "<table border=\"1\" class=\"dataframe\">\n",
       "  <thead>\n",
       "    <tr style=\"text-align: right;\">\n",
       "      <th></th>\n",
       "      <th>hotel</th>\n",
       "      <th>is_canceled</th>\n",
       "      <th>adults</th>\n",
       "      <th>children</th>\n",
       "      <th>babies</th>\n",
       "      <th>meal</th>\n",
       "      <th>country</th>\n",
       "      <th>market_segment</th>\n",
       "      <th>distribution_channel</th>\n",
       "      <th>reserved_room_type</th>\n",
       "      <th>booking_changes</th>\n",
       "      <th>deposit_type</th>\n",
       "      <th>days_in_waiting_list</th>\n",
       "      <th>customer_type</th>\n",
       "      <th>required_car_parking_spaces</th>\n",
       "      <th>total_of_special_requests</th>\n",
       "    </tr>\n",
       "  </thead>\n",
       "  <tbody>\n",
       "    <tr>\n",
       "      <th>0</th>\n",
       "      <td>Resort Hotel</td>\n",
       "      <td>0</td>\n",
       "      <td>2</td>\n",
       "      <td>0.0</td>\n",
       "      <td>0</td>\n",
       "      <td>BB</td>\n",
       "      <td>PRT</td>\n",
       "      <td>Direct</td>\n",
       "      <td>Direct</td>\n",
       "      <td>C</td>\n",
       "      <td>3</td>\n",
       "      <td>No Deposit</td>\n",
       "      <td>0</td>\n",
       "      <td>Transient</td>\n",
       "      <td>0</td>\n",
       "      <td>0</td>\n",
       "    </tr>\n",
       "    <tr>\n",
       "      <th>1</th>\n",
       "      <td>Resort Hotel</td>\n",
       "      <td>0</td>\n",
       "      <td>2</td>\n",
       "      <td>0.0</td>\n",
       "      <td>0</td>\n",
       "      <td>BB</td>\n",
       "      <td>PRT</td>\n",
       "      <td>Direct</td>\n",
       "      <td>Direct</td>\n",
       "      <td>C</td>\n",
       "      <td>4</td>\n",
       "      <td>No Deposit</td>\n",
       "      <td>0</td>\n",
       "      <td>Transient</td>\n",
       "      <td>0</td>\n",
       "      <td>0</td>\n",
       "    </tr>\n",
       "    <tr>\n",
       "      <th>2</th>\n",
       "      <td>Resort Hotel</td>\n",
       "      <td>0</td>\n",
       "      <td>1</td>\n",
       "      <td>0.0</td>\n",
       "      <td>0</td>\n",
       "      <td>BB</td>\n",
       "      <td>GBR</td>\n",
       "      <td>Direct</td>\n",
       "      <td>Direct</td>\n",
       "      <td>A</td>\n",
       "      <td>0</td>\n",
       "      <td>No Deposit</td>\n",
       "      <td>0</td>\n",
       "      <td>Transient</td>\n",
       "      <td>0</td>\n",
       "      <td>0</td>\n",
       "    </tr>\n",
       "  </tbody>\n",
       "</table>\n",
       "</div>"
      ],
      "text/plain": [
       "          hotel  is_canceled  adults  children  babies meal country  \\\n",
       "0  Resort Hotel            0       2       0.0       0   BB     PRT   \n",
       "1  Resort Hotel            0       2       0.0       0   BB     PRT   \n",
       "2  Resort Hotel            0       1       0.0       0   BB     GBR   \n",
       "\n",
       "  market_segment distribution_channel reserved_room_type  booking_changes  \\\n",
       "0         Direct               Direct                  C                3   \n",
       "1         Direct               Direct                  C                4   \n",
       "2         Direct               Direct                  A                0   \n",
       "\n",
       "  deposit_type  days_in_waiting_list customer_type  \\\n",
       "0   No Deposit                     0     Transient   \n",
       "1   No Deposit                     0     Transient   \n",
       "2   No Deposit                     0     Transient   \n",
       "\n",
       "   required_car_parking_spaces  total_of_special_requests  \n",
       "0                            0                          0  \n",
       "1                            0                          0  \n",
       "2                            0                          0  "
      ]
     },
     "metadata": {},
     "output_type": "display_data"
    },
    {
     "data": {
      "text/plain": [
       "(4999, 16)"
      ]
     },
     "metadata": {},
     "output_type": "display_data"
    }
   ],
   "source": [
    "display(df.head(3), df.shape)"
   ]
  },
  {
   "cell_type": "code",
   "execution_count": 6,
   "metadata": {
    "ExecuteTime": {
     "end_time": "2020-08-11T06:51:37.445832Z",
     "start_time": "2020-08-11T06:51:37.426844Z"
    },
    "scrolled": true
   },
   "outputs": [
    {
     "name": "stdout",
     "output_type": "stream",
     "text": [
      "<class 'pandas.core.frame.DataFrame'>\n",
      "RangeIndex: 4999 entries, 0 to 4998\n",
      "Data columns (total 16 columns):\n",
      " #   Column                       Non-Null Count  Dtype  \n",
      "---  ------                       --------------  -----  \n",
      " 0   hotel                        4999 non-null   object \n",
      " 1   is_canceled                  4999 non-null   int64  \n",
      " 2   adults                       4999 non-null   int64  \n",
      " 3   children                     4999 non-null   float64\n",
      " 4   babies                       4999 non-null   int64  \n",
      " 5   meal                         4999 non-null   object \n",
      " 6   country                      4997 non-null   object \n",
      " 7   market_segment               4999 non-null   object \n",
      " 8   distribution_channel         4999 non-null   object \n",
      " 9   reserved_room_type           4999 non-null   object \n",
      " 10  booking_changes              4999 non-null   int64  \n",
      " 11  deposit_type                 4999 non-null   object \n",
      " 12  days_in_waiting_list         4999 non-null   int64  \n",
      " 13  customer_type                4999 non-null   object \n",
      " 14  required_car_parking_spaces  4999 non-null   int64  \n",
      " 15  total_of_special_requests    4999 non-null   int64  \n",
      "dtypes: float64(1), int64(7), object(8)\n",
      "memory usage: 625.0+ KB\n"
     ]
    }
   ],
   "source": [
    "df.info()"
   ]
  },
  {
   "cell_type": "code",
   "execution_count": 7,
   "metadata": {
    "ExecuteTime": {
     "end_time": "2020-08-11T06:51:37.828828Z",
     "start_time": "2020-08-11T06:51:37.816833Z"
    },
    "scrolled": true
   },
   "outputs": [
    {
     "data": {
      "text/plain": [
       "hotel                          0\n",
       "is_canceled                    0\n",
       "adults                         0\n",
       "children                       0\n",
       "babies                         0\n",
       "meal                           0\n",
       "country                        2\n",
       "market_segment                 0\n",
       "distribution_channel           0\n",
       "reserved_room_type             0\n",
       "booking_changes                0\n",
       "deposit_type                   0\n",
       "days_in_waiting_list           0\n",
       "customer_type                  0\n",
       "required_car_parking_spaces    0\n",
       "total_of_special_requests      0\n",
       "dtype: int64"
      ]
     },
     "execution_count": 7,
     "metadata": {},
     "output_type": "execute_result"
    }
   ],
   "source": [
    "df.isna().sum()"
   ]
  },
  {
   "cell_type": "markdown",
   "metadata": {},
   "source": [
    "Didapatkan 2 values Null Pada country"
   ]
  },
  {
   "cell_type": "code",
   "execution_count": 8,
   "metadata": {
    "ExecuteTime": {
     "end_time": "2020-08-11T06:51:38.672831Z",
     "start_time": "2020-08-11T06:51:38.650846Z"
    }
   },
   "outputs": [
    {
     "data": {
      "text/html": [
       "<div>\n",
       "<style scoped>\n",
       "    .dataframe tbody tr th:only-of-type {\n",
       "        vertical-align: middle;\n",
       "    }\n",
       "\n",
       "    .dataframe tbody tr th {\n",
       "        vertical-align: top;\n",
       "    }\n",
       "\n",
       "    .dataframe thead th {\n",
       "        text-align: right;\n",
       "    }\n",
       "</style>\n",
       "<table border=\"1\" class=\"dataframe\">\n",
       "  <thead>\n",
       "    <tr style=\"text-align: right;\">\n",
       "      <th></th>\n",
       "      <th>hotel</th>\n",
       "      <th>is_canceled</th>\n",
       "      <th>adults</th>\n",
       "      <th>children</th>\n",
       "      <th>babies</th>\n",
       "      <th>meal</th>\n",
       "      <th>country</th>\n",
       "      <th>market_segment</th>\n",
       "      <th>distribution_channel</th>\n",
       "      <th>reserved_room_type</th>\n",
       "      <th>booking_changes</th>\n",
       "      <th>deposit_type</th>\n",
       "      <th>days_in_waiting_list</th>\n",
       "      <th>customer_type</th>\n",
       "      <th>required_car_parking_spaces</th>\n",
       "      <th>total_of_special_requests</th>\n",
       "    </tr>\n",
       "  </thead>\n",
       "  <tbody>\n",
       "    <tr>\n",
       "      <th>30</th>\n",
       "      <td>Resort Hotel</td>\n",
       "      <td>0</td>\n",
       "      <td>1</td>\n",
       "      <td>0.0</td>\n",
       "      <td>0</td>\n",
       "      <td>BB</td>\n",
       "      <td>NaN</td>\n",
       "      <td>Direct</td>\n",
       "      <td>Direct</td>\n",
       "      <td>A</td>\n",
       "      <td>2</td>\n",
       "      <td>No Deposit</td>\n",
       "      <td>0</td>\n",
       "      <td>Transient</td>\n",
       "      <td>0</td>\n",
       "      <td>2</td>\n",
       "    </tr>\n",
       "    <tr>\n",
       "      <th>4127</th>\n",
       "      <td>Resort Hotel</td>\n",
       "      <td>1</td>\n",
       "      <td>0</td>\n",
       "      <td>0.0</td>\n",
       "      <td>0</td>\n",
       "      <td>SC</td>\n",
       "      <td>NaN</td>\n",
       "      <td>Offline TA/TO</td>\n",
       "      <td>TA/TO</td>\n",
       "      <td>P</td>\n",
       "      <td>0</td>\n",
       "      <td>No Deposit</td>\n",
       "      <td>0</td>\n",
       "      <td>Transient</td>\n",
       "      <td>0</td>\n",
       "      <td>0</td>\n",
       "    </tr>\n",
       "  </tbody>\n",
       "</table>\n",
       "</div>"
      ],
      "text/plain": [
       "             hotel  is_canceled  adults  children  babies meal country  \\\n",
       "30    Resort Hotel            0       1       0.0       0   BB     NaN   \n",
       "4127  Resort Hotel            1       0       0.0       0   SC     NaN   \n",
       "\n",
       "     market_segment distribution_channel reserved_room_type  booking_changes  \\\n",
       "30           Direct               Direct                  A                2   \n",
       "4127  Offline TA/TO                TA/TO                  P                0   \n",
       "\n",
       "     deposit_type  days_in_waiting_list customer_type  \\\n",
       "30     No Deposit                     0     Transient   \n",
       "4127   No Deposit                     0     Transient   \n",
       "\n",
       "      required_car_parking_spaces  total_of_special_requests  \n",
       "30                              0                          2  \n",
       "4127                            0                          0  "
      ]
     },
     "execution_count": 8,
     "metadata": {},
     "output_type": "execute_result"
    }
   ],
   "source": [
    "df[df['country'].isna()]"
   ]
  },
  {
   "cell_type": "markdown",
   "metadata": {},
   "source": [
    "**Cleaning Country Features**"
   ]
  },
  {
   "cell_type": "code",
   "execution_count": 23,
   "metadata": {
    "ExecuteTime": {
     "end_time": "2020-08-11T06:54:10.730591Z",
     "start_time": "2020-08-11T06:54:10.724598Z"
    }
   },
   "outputs": [
    {
     "data": {
      "text/plain": [
       "(4999, 16)"
      ]
     },
     "execution_count": 23,
     "metadata": {},
     "output_type": "execute_result"
    }
   ],
   "source": [
    "df.shape"
   ]
  },
  {
   "cell_type": "code",
   "execution_count": 9,
   "metadata": {
    "ExecuteTime": {
     "end_time": "2020-08-11T06:51:40.212399Z",
     "start_time": "2020-08-11T06:51:40.200406Z"
    }
   },
   "outputs": [
    {
     "data": {
      "text/plain": [
       "count     4997\n",
       "unique      56\n",
       "top        PRT\n",
       "freq      3173\n",
       "Name: country, dtype: object"
      ]
     },
     "execution_count": 9,
     "metadata": {},
     "output_type": "execute_result"
    }
   ],
   "source": [
    "df['country'].describe()"
   ]
  },
  {
   "cell_type": "code",
   "execution_count": 10,
   "metadata": {
    "ExecuteTime": {
     "end_time": "2020-08-11T06:51:40.784052Z",
     "start_time": "2020-08-11T06:51:40.774055Z"
    },
    "scrolled": true
   },
   "outputs": [
    {
     "data": {
      "text/plain": [
       "PRT    3173\n",
       "ESP     550\n",
       "GBR     505\n",
       "IRL     172\n",
       "FRA     113\n",
       "DEU      89\n",
       "NLD      55\n",
       "CN       33\n",
       "BEL      29\n",
       "USA      28\n",
       "POL      28\n",
       "CHE      26\n",
       "ITA      23\n",
       "RUS      23\n",
       "BRA      18\n",
       "AUT      12\n",
       "ROU      12\n",
       "LUX      10\n",
       "FIN       9\n",
       "SWE       8\n",
       "DNK       6\n",
       "ARG       6\n",
       "LVA       6\n",
       "CHN       5\n",
       "NOR       5\n",
       "AUS       4\n",
       "KOR       3\n",
       "IND       3\n",
       "LTU       3\n",
       "CZE       3\n",
       "MEX       2\n",
       "CHL       2\n",
       "DZA       2\n",
       "MOZ       2\n",
       "ZAF       2\n",
       "OMN       2\n",
       "SVN       2\n",
       "MAR       2\n",
       "CRI       2\n",
       "TUR       2\n",
       "EST       2\n",
       "BLR       1\n",
       "CYM       1\n",
       "HUN       1\n",
       "SRB       1\n",
       "SMR       1\n",
       "PRI       1\n",
       "CPV       1\n",
       "GRC       1\n",
       "ISR       1\n",
       "UKR       1\n",
       "BWA       1\n",
       "ALB       1\n",
       "ZWE       1\n",
       "AGO       1\n",
       "ZMB       1\n",
       "Name: country, dtype: int64"
      ]
     },
     "execution_count": 10,
     "metadata": {},
     "output_type": "execute_result"
    }
   ],
   "source": [
    "df['country'].value_counts()"
   ]
  },
  {
   "cell_type": "markdown",
   "metadata": {},
   "source": [
    "Didapatkan bahwasanya Negara PRT merupakan dengan modulus terbanyak sehingga bisa disimpulkan dengan metoda statistik Central Tendency, `Null` values pada kolom tersebut diisi dengan methode modus."
   ]
  },
  {
   "cell_type": "code",
   "execution_count": 11,
   "metadata": {
    "ExecuteTime": {
     "end_time": "2020-08-11T06:51:44.806453Z",
     "start_time": "2020-08-11T06:51:44.796462Z"
    }
   },
   "outputs": [
    {
     "data": {
      "text/plain": [
       "0"
      ]
     },
     "execution_count": 11,
     "metadata": {},
     "output_type": "execute_result"
    }
   ],
   "source": [
    "df['country'] = df['country'].fillna('PRT')\n",
    "df['country'].isnull().sum()"
   ]
  },
  {
   "cell_type": "markdown",
   "metadata": {},
   "source": [
    "# B. EDA (25 poin)\n",
    "\n",
    "Jalankan Exploratory Data Analysis untuk:\n",
    "\n",
    "Memahami profil tamu/konsumen hotel (customer profiling).\n",
    "Memahami kebiasaan tamu/konsumen hotel (customer behavior).\n",
    "Berikan penjelasan tentang insight yang Anda temukan dari hasil Exploratory Data Analysis ke manajemen hotel!"
   ]
  },
  {
   "cell_type": "code",
   "execution_count": 12,
   "metadata": {
    "ExecuteTime": {
     "end_time": "2020-08-11T06:51:48.644729Z",
     "start_time": "2020-08-11T06:51:48.622742Z"
    },
    "scrolled": true
   },
   "outputs": [
    {
     "data": {
      "text/html": [
       "<div>\n",
       "<style scoped>\n",
       "    .dataframe tbody tr th:only-of-type {\n",
       "        vertical-align: middle;\n",
       "    }\n",
       "\n",
       "    .dataframe tbody tr th {\n",
       "        vertical-align: top;\n",
       "    }\n",
       "\n",
       "    .dataframe thead th {\n",
       "        text-align: right;\n",
       "    }\n",
       "</style>\n",
       "<table border=\"1\" class=\"dataframe\">\n",
       "  <thead>\n",
       "    <tr style=\"text-align: right;\">\n",
       "      <th></th>\n",
       "      <th>hotel</th>\n",
       "      <th>is_canceled</th>\n",
       "      <th>adults</th>\n",
       "      <th>children</th>\n",
       "      <th>babies</th>\n",
       "      <th>meal</th>\n",
       "      <th>country</th>\n",
       "      <th>market_segment</th>\n",
       "      <th>distribution_channel</th>\n",
       "      <th>reserved_room_type</th>\n",
       "      <th>booking_changes</th>\n",
       "      <th>deposit_type</th>\n",
       "      <th>days_in_waiting_list</th>\n",
       "      <th>customer_type</th>\n",
       "      <th>required_car_parking_spaces</th>\n",
       "      <th>total_of_special_requests</th>\n",
       "    </tr>\n",
       "  </thead>\n",
       "  <tbody>\n",
       "    <tr>\n",
       "      <th>0</th>\n",
       "      <td>Resort Hotel</td>\n",
       "      <td>0</td>\n",
       "      <td>2</td>\n",
       "      <td>0.0</td>\n",
       "      <td>0</td>\n",
       "      <td>BB</td>\n",
       "      <td>PRT</td>\n",
       "      <td>Direct</td>\n",
       "      <td>Direct</td>\n",
       "      <td>C</td>\n",
       "      <td>3</td>\n",
       "      <td>No Deposit</td>\n",
       "      <td>0</td>\n",
       "      <td>Transient</td>\n",
       "      <td>0</td>\n",
       "      <td>0</td>\n",
       "    </tr>\n",
       "    <tr>\n",
       "      <th>1</th>\n",
       "      <td>Resort Hotel</td>\n",
       "      <td>0</td>\n",
       "      <td>2</td>\n",
       "      <td>0.0</td>\n",
       "      <td>0</td>\n",
       "      <td>BB</td>\n",
       "      <td>PRT</td>\n",
       "      <td>Direct</td>\n",
       "      <td>Direct</td>\n",
       "      <td>C</td>\n",
       "      <td>4</td>\n",
       "      <td>No Deposit</td>\n",
       "      <td>0</td>\n",
       "      <td>Transient</td>\n",
       "      <td>0</td>\n",
       "      <td>0</td>\n",
       "    </tr>\n",
       "  </tbody>\n",
       "</table>\n",
       "</div>"
      ],
      "text/plain": [
       "          hotel  is_canceled  adults  children  babies meal country  \\\n",
       "0  Resort Hotel            0       2       0.0       0   BB     PRT   \n",
       "1  Resort Hotel            0       2       0.0       0   BB     PRT   \n",
       "\n",
       "  market_segment distribution_channel reserved_room_type  booking_changes  \\\n",
       "0         Direct               Direct                  C                3   \n",
       "1         Direct               Direct                  C                4   \n",
       "\n",
       "  deposit_type  days_in_waiting_list customer_type  \\\n",
       "0   No Deposit                     0     Transient   \n",
       "1   No Deposit                     0     Transient   \n",
       "\n",
       "   required_car_parking_spaces  total_of_special_requests  \n",
       "0                            0                          0  \n",
       "1                            0                          0  "
      ]
     },
     "execution_count": 12,
     "metadata": {},
     "output_type": "execute_result"
    }
   ],
   "source": [
    "df.head(2)"
   ]
  },
  {
   "cell_type": "code",
   "execution_count": 13,
   "metadata": {
    "ExecuteTime": {
     "end_time": "2020-08-11T06:51:50.054407Z",
     "start_time": "2020-08-11T06:51:49.418754Z"
    }
   },
   "outputs": [
    {
     "data": {
      "image/png": "[encoded data removed]",
      "text/plain": [
       "<Figure size 576x576 with 2 Axes>"
      ]
     },
     "metadata": {
      "needs_background": "light"
     },
     "output_type": "display_data"
    }
   ],
   "source": [
    "corr = df.corr()\n",
    "fig, ax = plt.subplots(figsize=(8, 8))\n",
    "colormap = sns.diverging_palette(220, 10, as_cmap=True)\n",
    "dropSelf = np.zeros_like(corr)\n",
    "dropSelf[np.triu_indices_from(dropSelf)] = True\n",
    "colormap = sns.diverging_palette(220, 10, as_cmap=True)\n",
    "sns.heatmap(corr, cmap=colormap, linewidths=.5, annot=True, fmt=\".2f\", mask=dropSelf)\n",
    "plt.show()"
   ]
  },
  {
   "cell_type": "markdown",
   "metadata": {},
   "source": [
    "# Jumlah Canceled and Not Canceled"
   ]
  },
  {
   "cell_type": "code",
   "execution_count": 14,
   "metadata": {
    "ExecuteTime": {
     "end_time": "2020-08-11T06:51:52.564597Z",
     "start_time": "2020-08-11T06:51:52.555604Z"
    }
   },
   "outputs": [],
   "source": [
    "cancel_df = df[df['is_canceled'] == 1]\n",
    "cancel_no_df = df[df['is_canceled'] == 0]"
   ]
  },
  {
   "cell_type": "code",
   "execution_count": 15,
   "metadata": {
    "ExecuteTime": {
     "end_time": "2020-08-11T06:51:57.760075Z",
     "start_time": "2020-08-11T06:51:57.750084Z"
    }
   },
   "outputs": [
    {
     "name": "stdout",
     "output_type": "stream",
     "text": [
      "TOTAL CANCEL : 2297 | TOTAL NO CANCEL : 2702\n"
     ]
    }
   ],
   "source": [
    "cancel = df['is_canceled'].value_counts()[1]\n",
    "no_cancel = df['is_canceled'].value_counts()[0]\n",
    "\n",
    "print(f'TOTAL CANCEL : {cancel} |', f'TOTAL NO CANCEL : {no_cancel}')"
   ]
  },
  {
   "cell_type": "code",
   "execution_count": 16,
   "metadata": {
    "ExecuteTime": {
     "end_time": "2020-08-11T06:52:09.449063Z",
     "start_time": "2020-08-11T06:52:09.257663Z"
    }
   },
   "outputs": [
    {
     "data": {
      "image/png": "[encoded data removed]",
      "text/plain": [
       "<Figure size 576x504 with 1 Axes>"
      ]
     },
     "metadata": {},
     "output_type": "display_data"
    }
   ],
   "source": [
    "plt.figure(figsize = (8,7))\n",
    "plt.title('CANCEL OR NOT', fontsize = 10)\n",
    "\n",
    "labels = 'Not Cancel', 'Cancel'\n",
    "\n",
    "plt.pie(df['is_canceled'].value_counts(), autopct = '%.1f%%', \n",
    "        textprops = {'fontsize' : 17, 'color' : 'white'}, explode = (0.1,0), colors='bright')\n",
    "\n",
    "plt.legend(labels, loc='lower left', fontsize = 13)\n",
    "\n",
    "plt.show()"
   ]
  },
  {
   "cell_type": "markdown",
   "metadata": {},
   "source": [
    "Pie chart diatas bahwa dari total 5000 pesanan, ada 45.9% atau berjumlah 2297 user yang cancel booking sehingga menyisakan 54.1% atau 2702 user booking yang tidak di cancel."
   ]
  },
  {
   "cell_type": "code",
   "execution_count": 17,
   "metadata": {
    "ExecuteTime": {
     "end_time": "2020-08-11T06:52:14.134371Z",
     "start_time": "2020-08-11T06:52:14.120379Z"
    },
    "scrolled": true
   },
   "outputs": [
    {
     "data": {
      "text/plain": [
       "required_car_parking_spaces    0.295285\n",
       "booking_changes                0.181558\n",
       "days_in_waiting_list           0.113411\n",
       "total_of_special_requests      0.082928\n",
       "adults                         0.045201\n",
       "babies                         0.029520\n",
       "children                       0.024737\n",
       "Name: is_canceled, dtype: float64"
      ]
     },
     "execution_count": 17,
     "metadata": {},
     "output_type": "execute_result"
    }
   ],
   "source": [
    "correlation = df.corr()[\"is_canceled\"]\n",
    "correlation.abs().sort_values(ascending=False)[1:]"
   ]
  },
  {
   "cell_type": "markdown",
   "metadata": {},
   "source": [
    "Berdasarkan Korelasi diatas dapat disinyalir bahwa korelasi tertinggi pada `required_car_parking_spaces`. Sehingga dipastikan bahwasanya kondisi cancel berkorelasi erat dengan adanya tempat parkir."
   ]
  },
  {
   "cell_type": "code",
   "execution_count": 18,
   "metadata": {
    "ExecuteTime": {
     "end_time": "2020-08-11T06:52:15.183754Z",
     "start_time": "2020-08-11T06:52:15.176757Z"
    }
   },
   "outputs": [
    {
     "data": {
      "text/plain": [
       "0       0\n",
       "1       0\n",
       "2       0\n",
       "3       0\n",
       "4       0\n",
       "       ..\n",
       "4994    0\n",
       "4995    0\n",
       "4996    0\n",
       "4997    0\n",
       "4998    0\n",
       "Name: required_car_parking_spaces, Length: 4999, dtype: int64"
      ]
     },
     "execution_count": 18,
     "metadata": {},
     "output_type": "execute_result"
    }
   ],
   "source": [
    "df['required_car_parking_spaces']"
   ]
  },
  {
   "cell_type": "markdown",
   "metadata": {},
   "source": [
    "## Required Parking Space"
   ]
  },
  {
   "cell_type": "code",
   "execution_count": 19,
   "metadata": {
    "ExecuteTime": {
     "end_time": "2020-08-11T06:52:17.014779Z",
     "start_time": "2020-08-11T06:52:16.692962Z"
    }
   },
   "outputs": [
    {
     "data": {
      "image/png": "[encoded data removed]",
      "text/plain": [
       "<Figure size 720x432 with 1 Axes>"
      ]
     },
     "metadata": {
      "needs_background": "light"
     },
     "output_type": "display_data"
    }
   ],
   "source": [
    "plt.figure(figsize=(10,6))\n",
    "sns.set(style = \"darkgrid\")\n",
    "plt.title(\"Is the Booking Canceled or Not Based on Required Car Parking Spaces\", fontdict = {'fontsize': 20})\n",
    "axis = sns.countplot(x = \"is_canceled\", hue = 'required_car_parking_spaces', data = df)"
   ]
  },
  {
   "cell_type": "markdown",
   "metadata": {},
   "source": [
    "0 Merupakan No Cancel\n",
    "\n",
    "1 Merupakan Cancel\n",
    "\n",
    "Sehingga dapat dilihat bahwasanya jumlah yang tidak di cancel dengan adanya parking space berjumlah lebih banyak."
   ]
  },
  {
   "cell_type": "markdown",
   "metadata": {},
   "source": [
    "## Country"
   ]
  },
  {
   "cell_type": "code",
   "execution_count": 20,
   "metadata": {
    "ExecuteTime": {
     "end_time": "2020-08-11T06:52:51.935357Z",
     "start_time": "2020-08-11T06:52:51.925363Z"
    }
   },
   "outputs": [
    {
     "data": {
      "text/plain": [
       "PRT    2189\n",
       "ESP      44\n",
       "GBR      38\n",
       "CN       13\n",
       "IRL       5\n",
       "DEU       3\n",
       "ITA       3\n",
       "FRA       2\n",
       "Name: country, dtype: int64"
      ]
     },
     "execution_count": 20,
     "metadata": {},
     "output_type": "execute_result"
    }
   ],
   "source": [
    "cancel_df['country'].value_counts().head(10)"
   ]
  },
  {
   "cell_type": "code",
   "execution_count": 27,
   "metadata": {
    "ExecuteTime": {
     "end_time": "2020-08-11T06:55:57.738149Z",
     "start_time": "2020-08-11T06:55:57.328382Z"
    }
   },
   "outputs": [
    {
     "data": {
      "image/png": "[encoded data removed]",
      "text/plain": [
       "<Figure size 864x432 with 1 Axes>"
      ]
     },
     "metadata": {},
     "output_type": "display_data"
    }
   ],
   "source": [
    "country_cancel_10 = pd.DataFrame(cancel_df['country'].value_counts().head(10))\n",
    "plt.figure(figsize=(12,6))\n",
    "sns.countplot(data=cancel_df, y='country', order=country_cancel_10.index, palette=\"cividis\")\n",
    "plt.xlim([0,100])\n",
    "plt.title('Top 10 country whos cancel hotel reservation')\n",
    "plt.show()"
   ]
  },
  {
   "cell_type": "code",
   "execution_count": 31,
   "metadata": {
    "ExecuteTime": {
     "end_time": "2020-08-11T06:58:57.100774Z",
     "start_time": "2020-08-11T06:58:56.781946Z"
    }
   },
   "outputs": [
    {
     "data": {
      "image/png": "[encoded data removed]",
      "text/plain": [
       "<Figure size 864x432 with 1 Axes>"
      ]
     },
     "metadata": {},
     "output_type": "display_data"
    }
   ],
   "source": [
    "country_no_cancel_10 = pd.DataFrame(cancel_no_df['country'].value_counts().head(5))\n",
    "plt.figure(figsize=(12,6))\n",
    "sns.countplot(data=cancel_df, y='country', order=country_no_cancel_10.index, palette=\"cividis\")\n",
    "plt.title('Top 5 country whos  not cancel hotel reservation')\n",
    "plt.xlim([0,100])\n",
    "plt.show()"
   ]
  },
  {
   "cell_type": "markdown",
   "metadata": {},
   "source": [
    "Dilihat dari kedua diagram tersebut dapat disimpulkan bahwasanya dataset tidak balance. Portugal merupakan dengan negara terbanyak dalam meng cancel ataupun tidak meng cancel.\n",
    "\n",
    "Diikuti dengan ESP, GBR, IRL, FRA dalam tidak meng cancel\n",
    "\n",
    "Dan dalam mengcancel urutan ke 4 diisi dengan negara CN."
   ]
  },
  {
   "cell_type": "markdown",
   "metadata": {},
   "source": [
    "## Distribution Channel"
   ]
  },
  {
   "cell_type": "code",
   "execution_count": 37,
   "metadata": {
    "ExecuteTime": {
     "end_time": "2020-08-11T07:03:29.506792Z",
     "start_time": "2020-08-11T07:03:29.145998Z"
    }
   },
   "outputs": [
    {
     "data": {
      "image/png": "[encoded data removed]",
      "text/plain": [
       "<Figure size 576x576 with 1 Axes>"
      ]
     },
     "metadata": {},
     "output_type": "display_data"
    }
   ],
   "source": [
    "plt.figure(figsize=(8,8))\n",
    "plt.title(label='Cancellation by Distribution Channels')\n",
    "plt.xticks(rotation=45) \n",
    "sns.countplot(x='distribution_channel',hue='is_canceled',data=df, palette='viridis')\n",
    "plt.show()\n"
   ]
  },
  {
   "cell_type": "markdown",
   "metadata": {},
   "source": [
    "Dengan agency TA/TO Canceled booking / No Canceled booking terlihat lebih banyak ketimbang melalui Corportate ataupun Direct. Artinya dengan Agency TA/TO harus dilihat kembali faktor apa saja yang mempengaruhi."
   ]
  },
  {
   "cell_type": "markdown",
   "metadata": {},
   "source": [
    "## Deposit Type"
   ]
  },
  {
   "cell_type": "code",
   "execution_count": 39,
   "metadata": {
    "ExecuteTime": {
     "end_time": "2020-08-11T07:04:19.350805Z",
     "start_time": "2020-08-11T07:04:19.033985Z"
    }
   },
   "outputs": [
    {
     "data": {
      "image/png": "[encoded data removed]",
      "text/plain": [
       "<Figure size 432x432 with 1 Axes>"
      ]
     },
     "metadata": {},
     "output_type": "display_data"
    }
   ],
   "source": [
    "plt.figure(figsize=(6,6))\n",
    "plt.title(label='Cancellation by Deposit Type')\n",
    "sns.countplot(x='deposit_type',hue='is_canceled',data=df, palette='viridis')\n",
    "plt.show()"
   ]
  },
  {
   "cell_type": "markdown",
   "metadata": {},
   "source": [
    "Dapat dilihat dari barplot tersebut Non-Refund dengan tidak mengcancel jumlahnya. Tetapi Cancel terbanyak dilihat dari Tidak adanya deposit (No Deposit).\n",
    "\n",
    "Kebanyakan reservasi tidak menggunakan deposit. Disini anehnya justru deposit yang Non-Refundable memiliki persentase yang lebih banyak di-cancel ketimbang tidak memiliki deposit."
   ]
  },
  {
   "cell_type": "markdown",
   "metadata": {},
   "source": [
    "## Adults"
   ]
  },
  {
   "cell_type": "code",
   "execution_count": 45,
   "metadata": {
    "ExecuteTime": {
     "end_time": "2020-08-11T07:10:10.403537Z",
     "start_time": "2020-08-11T07:10:09.629977Z"
    }
   },
   "outputs": [
    {
     "data": {
      "image/png": "[encoded data removed]",
      "text/plain": [
       "<Figure size 864x576 with 1 Axes>"
      ]
     },
     "metadata": {},
     "output_type": "display_data"
    }
   ],
   "source": [
    "plt.figure(figsize=(12,8))\n",
    "sns.countplot(x='adults', data=df, hue='is_canceled', palette='viridis');"
   ]
  },
  {
   "cell_type": "markdown",
   "metadata": {},
   "source": [
    "Reservarsi Hotel dilakukan oleh 2 orang dewasa dan 1 orang dewasa. Dan mengcancel dilakukan oleh 2 orang dewasa yang paling banyak."
   ]
  },
  {
   "cell_type": "code",
   "execution_count": 51,
   "metadata": {
    "ExecuteTime": {
     "end_time": "2020-08-11T07:14:17.421099Z",
     "start_time": "2020-08-11T07:14:17.054310Z"
    }
   },
   "outputs": [
    {
     "data": {
      "image/png": "[encoded data removed]",
      "text/plain": [
       "<Figure size 936x360 with 1 Axes>"
      ]
     },
     "metadata": {},
     "output_type": "display_data"
    }
   ],
   "source": [
    "plt.figure(figsize = (13,5))\n",
    "sns.barplot(x = 'is_canceled', y = 'adults', data = df, palette='cividis');"
   ]
  },
  {
   "cell_type": "markdown",
   "metadata": {},
   "source": [
    "## Children"
   ]
  },
  {
   "cell_type": "code",
   "execution_count": 46,
   "metadata": {
    "ExecuteTime": {
     "end_time": "2020-08-11T07:10:13.873014Z",
     "start_time": "2020-08-11T07:10:13.536210Z"
    }
   },
   "outputs": [
    {
     "data": {
      "image/png": "[encoded data removed]",
      "text/plain": [
       "<Figure size 864x576 with 1 Axes>"
      ]
     },
     "metadata": {},
     "output_type": "display_data"
    }
   ],
   "source": [
    "plt.figure(figsize=(12,8))\n",
    "sns.countplot(x='children', data=df, hue='is_canceled', palette='viridis');"
   ]
  },
  {
   "cell_type": "markdown",
   "metadata": {},
   "source": [
    "Nilai 0 pada Children artinya tidak membawa anak sama sekali anak-anak."
   ]
  },
  {
   "cell_type": "markdown",
   "metadata": {},
   "source": [
    "## Babies"
   ]
  },
  {
   "cell_type": "code",
   "execution_count": 49,
   "metadata": {
    "ExecuteTime": {
     "end_time": "2020-08-11T07:11:24.817557Z",
     "start_time": "2020-08-11T07:11:24.486391Z"
    }
   },
   "outputs": [
    {
     "data": {
      "image/png": "[encoded data removed]",
      "text/plain": [
       "<Figure size 864x576 with 1 Axes>"
      ]
     },
     "metadata": {},
     "output_type": "display_data"
    }
   ],
   "source": [
    "plt.figure(figsize=(12,8))\n",
    "sns.countplot(x='babies', data=df, hue='is_canceled', palette='viridis');"
   ]
  },
  {
   "cell_type": "markdown",
   "metadata": {},
   "source": [
    "Reservasi hotel dilakukan paling banyak dengan customer yang tidak membawa bayi/*babies*."
   ]
  },
  {
   "cell_type": "markdown",
   "metadata": {},
   "source": [
    "## Meal"
   ]
  },
  {
   "cell_type": "code",
   "execution_count": 54,
   "metadata": {
    "ExecuteTime": {
     "end_time": "2020-08-11T07:15:41.404260Z",
     "start_time": "2020-08-11T07:15:41.016462Z"
    }
   },
   "outputs": [
    {
     "data": {
      "image/png": "[encoded data removed]",
      "text/plain": [
       "<Figure size 864x576 with 1 Axes>"
      ]
     },
     "metadata": {},
     "output_type": "display_data"
    }
   ],
   "source": [
    "plt.figure(figsize=(12,8))\n",
    "sns.countplot(x='meal', data=df, hue='is_canceled', palette='bright');"
   ]
  },
  {
   "cell_type": "markdown",
   "metadata": {},
   "source": [
    "Tipe paling banyak cancel dan tidak cancel pada tipe makanan BB."
   ]
  },
  {
   "cell_type": "markdown",
   "metadata": {},
   "source": [
    "## Another Features"
   ]
  },
  {
   "cell_type": "code",
   "execution_count": 55,
   "metadata": {
    "ExecuteTime": {
     "end_time": "2020-08-11T07:17:11.977934Z",
     "start_time": "2020-08-11T07:17:08.916686Z"
    },
    "scrolled": false
   },
   "outputs": [
    {
     "data": {
      "image/png": "[encoded data removed]",
      "text/plain": [
       "<Figure size 1440x3240 with 9 Axes>"
      ]
     },
     "metadata": {},
     "output_type": "display_data"
    }
   ],
   "source": [
    "n = 1\n",
    "plt.figure(figsize=(20,45))\n",
    "for i in ['market_segment', 'distribution_channel', 'reserved_room_type', 'booking_changes', 'deposit_type', 'days_in_waiting_list', 'customer_type', \n",
    "          'required_car_parking_spaces', 'total_of_special_requests']:\n",
    "    plt.subplot(3, 3, n)\n",
    "    sns.countplot(x=i, data=df, hue='is_canceled', palette='spring')\n",
    "    plt.title(i)\n",
    "    plt.xticks(rotation=45)\n",
    "    n+=1\n",
    "    \n",
    "plt.show()"
   ]
  },
  {
   "cell_type": "markdown",
   "metadata": {},
   "source": [
    "### Konklusi\n",
    "\n",
    "- Hampir semua reservasi menggunakan `distribution channel` melalui Travel Agent dan Tour Operators\n",
    "\n",
    "- Kebanyakan reservasi memilih tipe room A kemudian diikuti D, dan E\n",
    "\n",
    "- Hampir semua reservasi tidak mengalami perubahan (0), kemudian diikuti dengan 1x perubahaan dan seterusnya. Reservasi yang tidak mengalami perubahan justru memiliki persentase cancel yang lebih besar ketimbang dilakukan perubahaan reservasi\n",
    "\n",
    "- Hampir seluruh tipe customer type  yang booking hotel Transient (when the booking is not part of a group or contract, and is not associated to other transient booking). Persentasi cancel yang paling besar berasal dari tipe ini dan Group (Berkelompok)\n"
   ]
  },
  {
   "cell_type": "markdown",
   "metadata": {},
   "source": [
    "# C. Model Building & Hyper-parameter Tuning (30 poin)\n",
    "\n",
    "- Lakukan training minimal 3 model ML yang Anda pahami, untuk mendapatkan model ML terbaik untuk memprediksi apakah user akan cancel booking atau tidak! Jelaskan secara singkat cara kerja model ML yang Anda gunakan!\n",
    "\n",
    "- Tingkatkan performa model ML mengikuti instruksi model evaluation (ikuti instruksi soal D). Beri penjelasan langkah-langkah Anda untuk meningkatkan performa model ML!"
   ]
  },
  {
   "cell_type": "code",
   "execution_count": 7,
   "metadata": {
    "ExecuteTime": {
     "end_time": "2020-08-11T04:15:29.565723Z",
     "start_time": "2020-08-11T04:15:29.561722Z"
    }
   },
   "outputs": [],
   "source": [
    "df1 = df.copy()"
   ]
  },
  {
   "cell_type": "markdown",
   "metadata": {},
   "source": [
    "Check *features* yang tersedia"
   ]
  },
  {
   "cell_type": "code",
   "execution_count": 8,
   "metadata": {
    "ExecuteTime": {
     "end_time": "2020-08-11T04:15:30.393396Z",
     "start_time": "2020-08-11T04:15:30.363413Z"
    },
    "scrolled": true
   },
   "outputs": [
    {
     "data": {
      "text/plain": [
       "Index(['hotel', 'is_canceled', 'adults', 'children', 'babies', 'meal',\n",
       "       'country', 'market_segment', 'distribution_channel',\n",
       "       'reserved_room_type', 'booking_changes', 'deposit_type',\n",
       "       'days_in_waiting_list', 'customer_type', 'required_car_parking_spaces',\n",
       "       'total_of_special_requests'],\n",
       "      dtype='object')"
      ]
     },
     "metadata": {},
     "output_type": "display_data"
    },
    {
     "data": {
      "text/html": [
       "<div>\n",
       "<style scoped>\n",
       "    .dataframe tbody tr th:only-of-type {\n",
       "        vertical-align: middle;\n",
       "    }\n",
       "\n",
       "    .dataframe tbody tr th {\n",
       "        vertical-align: top;\n",
       "    }\n",
       "\n",
       "    .dataframe thead th {\n",
       "        text-align: right;\n",
       "    }\n",
       "</style>\n",
       "<table border=\"1\" class=\"dataframe\">\n",
       "  <thead>\n",
       "    <tr style=\"text-align: right;\">\n",
       "      <th></th>\n",
       "      <th>hotel</th>\n",
       "      <th>is_canceled</th>\n",
       "      <th>adults</th>\n",
       "      <th>children</th>\n",
       "      <th>babies</th>\n",
       "      <th>meal</th>\n",
       "      <th>country</th>\n",
       "      <th>market_segment</th>\n",
       "      <th>distribution_channel</th>\n",
       "      <th>reserved_room_type</th>\n",
       "      <th>booking_changes</th>\n",
       "      <th>deposit_type</th>\n",
       "      <th>days_in_waiting_list</th>\n",
       "      <th>customer_type</th>\n",
       "      <th>required_car_parking_spaces</th>\n",
       "      <th>total_of_special_requests</th>\n",
       "    </tr>\n",
       "  </thead>\n",
       "  <tbody>\n",
       "    <tr>\n",
       "      <th>0</th>\n",
       "      <td>Resort Hotel</td>\n",
       "      <td>0</td>\n",
       "      <td>2</td>\n",
       "      <td>0.0</td>\n",
       "      <td>0</td>\n",
       "      <td>BB</td>\n",
       "      <td>PRT</td>\n",
       "      <td>Direct</td>\n",
       "      <td>Direct</td>\n",
       "      <td>C</td>\n",
       "      <td>3</td>\n",
       "      <td>No Deposit</td>\n",
       "      <td>0</td>\n",
       "      <td>Transient</td>\n",
       "      <td>0</td>\n",
       "      <td>0</td>\n",
       "    </tr>\n",
       "    <tr>\n",
       "      <th>1</th>\n",
       "      <td>Resort Hotel</td>\n",
       "      <td>0</td>\n",
       "      <td>2</td>\n",
       "      <td>0.0</td>\n",
       "      <td>0</td>\n",
       "      <td>BB</td>\n",
       "      <td>PRT</td>\n",
       "      <td>Direct</td>\n",
       "      <td>Direct</td>\n",
       "      <td>C</td>\n",
       "      <td>4</td>\n",
       "      <td>No Deposit</td>\n",
       "      <td>0</td>\n",
       "      <td>Transient</td>\n",
       "      <td>0</td>\n",
       "      <td>0</td>\n",
       "    </tr>\n",
       "    <tr>\n",
       "      <th>2</th>\n",
       "      <td>Resort Hotel</td>\n",
       "      <td>0</td>\n",
       "      <td>1</td>\n",
       "      <td>0.0</td>\n",
       "      <td>0</td>\n",
       "      <td>BB</td>\n",
       "      <td>GBR</td>\n",
       "      <td>Direct</td>\n",
       "      <td>Direct</td>\n",
       "      <td>A</td>\n",
       "      <td>0</td>\n",
       "      <td>No Deposit</td>\n",
       "      <td>0</td>\n",
       "      <td>Transient</td>\n",
       "      <td>0</td>\n",
       "      <td>0</td>\n",
       "    </tr>\n",
       "  </tbody>\n",
       "</table>\n",
       "</div>"
      ],
      "text/plain": [
       "          hotel  is_canceled  adults  children  babies meal country  \\\n",
       "0  Resort Hotel            0       2       0.0       0   BB     PRT   \n",
       "1  Resort Hotel            0       2       0.0       0   BB     PRT   \n",
       "2  Resort Hotel            0       1       0.0       0   BB     GBR   \n",
       "\n",
       "  market_segment distribution_channel reserved_room_type  booking_changes  \\\n",
       "0         Direct               Direct                  C                3   \n",
       "1         Direct               Direct                  C                4   \n",
       "2         Direct               Direct                  A                0   \n",
       "\n",
       "  deposit_type  days_in_waiting_list customer_type  \\\n",
       "0   No Deposit                     0     Transient   \n",
       "1   No Deposit                     0     Transient   \n",
       "2   No Deposit                     0     Transient   \n",
       "\n",
       "   required_car_parking_spaces  total_of_special_requests  \n",
       "0                            0                          0  \n",
       "1                            0                          0  \n",
       "2                            0                          0  "
      ]
     },
     "metadata": {},
     "output_type": "display_data"
    }
   ],
   "source": [
    "display(df1.columns, df1.head(3))"
   ]
  },
  {
   "cell_type": "code",
   "execution_count": 31,
   "metadata": {
    "ExecuteTime": {
     "end_time": "2020-08-11T04:19:48.045210Z",
     "start_time": "2020-08-11T04:19:48.032219Z"
    },
    "scrolled": true
   },
   "outputs": [
    {
     "data": {
      "text/plain": [
       "hotel                          0\n",
       "is_canceled                    0\n",
       "adults                         0\n",
       "children                       0\n",
       "babies                         0\n",
       "meal                           0\n",
       "country                        2\n",
       "market_segment                 0\n",
       "distribution_channel           0\n",
       "reserved_room_type             0\n",
       "booking_changes                0\n",
       "deposit_type                   0\n",
       "days_in_waiting_list           0\n",
       "customer_type                  0\n",
       "required_car_parking_spaces    0\n",
       "total_of_special_requests      0\n",
       "deposit_type_encode            0\n",
       "customer_type_encode           0\n",
       "distribution_channel_encode    0\n",
       "meal_encode                    0\n",
       "market_segment_encode          0\n",
       "reserved_room_type_encode      0\n",
       "dtype: int64"
      ]
     },
     "execution_count": 31,
     "metadata": {},
     "output_type": "execute_result"
    }
   ],
   "source": [
    "df1.isna().sum()"
   ]
  },
  {
   "cell_type": "markdown",
   "metadata": {},
   "source": [
    "**Drop Outlier**"
   ]
  },
  {
   "cell_type": "code",
   "execution_count": 32,
   "metadata": {
    "ExecuteTime": {
     "end_time": "2020-08-11T04:21:07.094156Z",
     "start_time": "2020-08-11T04:21:07.082160Z"
    }
   },
   "outputs": [],
   "source": [
    "df1.dropna(inplace=True)"
   ]
  },
  {
   "cell_type": "markdown",
   "metadata": {},
   "source": [
    "**Checking Unique and Describe**"
   ]
  },
  {
   "cell_type": "code",
   "execution_count": 14,
   "metadata": {
    "ExecuteTime": {
     "end_time": "2020-08-11T04:15:33.360883Z",
     "start_time": "2020-08-11T04:15:33.304919Z"
    },
    "scrolled": false
   },
   "outputs": [
    {
     "data": {
      "text/html": [
       "<div>\n",
       "<style scoped>\n",
       "    .dataframe tbody tr th:only-of-type {\n",
       "        vertical-align: middle;\n",
       "    }\n",
       "\n",
       "    .dataframe tbody tr th {\n",
       "        vertical-align: top;\n",
       "    }\n",
       "\n",
       "    .dataframe thead th {\n",
       "        text-align: right;\n",
       "    }\n",
       "</style>\n",
       "<table border=\"1\" class=\"dataframe\">\n",
       "  <thead>\n",
       "    <tr style=\"text-align: right;\">\n",
       "      <th></th>\n",
       "      <th>count</th>\n",
       "      <th>mean</th>\n",
       "      <th>std</th>\n",
       "      <th>min</th>\n",
       "      <th>25%</th>\n",
       "      <th>50%</th>\n",
       "      <th>75%</th>\n",
       "      <th>max</th>\n",
       "    </tr>\n",
       "  </thead>\n",
       "  <tbody>\n",
       "    <tr>\n",
       "      <th>is_canceled</th>\n",
       "      <td>4999.0</td>\n",
       "      <td>0.459492</td>\n",
       "      <td>0.498406</td>\n",
       "      <td>0.0</td>\n",
       "      <td>0.0</td>\n",
       "      <td>0.0</td>\n",
       "      <td>1.0</td>\n",
       "      <td>1.0</td>\n",
       "    </tr>\n",
       "    <tr>\n",
       "      <th>adults</th>\n",
       "      <td>4999.0</td>\n",
       "      <td>1.969794</td>\n",
       "      <td>1.566483</td>\n",
       "      <td>0.0</td>\n",
       "      <td>2.0</td>\n",
       "      <td>2.0</td>\n",
       "      <td>2.0</td>\n",
       "      <td>55.0</td>\n",
       "    </tr>\n",
       "    <tr>\n",
       "      <th>children</th>\n",
       "      <td>4999.0</td>\n",
       "      <td>0.115623</td>\n",
       "      <td>0.444874</td>\n",
       "      <td>0.0</td>\n",
       "      <td>0.0</td>\n",
       "      <td>0.0</td>\n",
       "      <td>0.0</td>\n",
       "      <td>10.0</td>\n",
       "    </tr>\n",
       "    <tr>\n",
       "      <th>babies</th>\n",
       "      <td>4999.0</td>\n",
       "      <td>0.014803</td>\n",
       "      <td>0.122421</td>\n",
       "      <td>0.0</td>\n",
       "      <td>0.0</td>\n",
       "      <td>0.0</td>\n",
       "      <td>0.0</td>\n",
       "      <td>2.0</td>\n",
       "    </tr>\n",
       "    <tr>\n",
       "      <th>booking_changes</th>\n",
       "      <td>4999.0</td>\n",
       "      <td>0.207241</td>\n",
       "      <td>0.612544</td>\n",
       "      <td>0.0</td>\n",
       "      <td>0.0</td>\n",
       "      <td>0.0</td>\n",
       "      <td>0.0</td>\n",
       "      <td>17.0</td>\n",
       "    </tr>\n",
       "    <tr>\n",
       "      <th>days_in_waiting_list</th>\n",
       "      <td>4999.0</td>\n",
       "      <td>1.772354</td>\n",
       "      <td>13.546689</td>\n",
       "      <td>0.0</td>\n",
       "      <td>0.0</td>\n",
       "      <td>0.0</td>\n",
       "      <td>0.0</td>\n",
       "      <td>122.0</td>\n",
       "    </tr>\n",
       "    <tr>\n",
       "      <th>required_car_parking_spaces</th>\n",
       "      <td>4999.0</td>\n",
       "      <td>0.093819</td>\n",
       "      <td>0.292975</td>\n",
       "      <td>0.0</td>\n",
       "      <td>0.0</td>\n",
       "      <td>0.0</td>\n",
       "      <td>0.0</td>\n",
       "      <td>2.0</td>\n",
       "    </tr>\n",
       "    <tr>\n",
       "      <th>total_of_special_requests</th>\n",
       "      <td>4999.0</td>\n",
       "      <td>0.602120</td>\n",
       "      <td>0.823283</td>\n",
       "      <td>0.0</td>\n",
       "      <td>0.0</td>\n",
       "      <td>0.0</td>\n",
       "      <td>1.0</td>\n",
       "      <td>4.0</td>\n",
       "    </tr>\n",
       "  </tbody>\n",
       "</table>\n",
       "</div>"
      ],
      "text/plain": [
       "                              count      mean        std  min  25%  50%  75%  \\\n",
       "is_canceled                  4999.0  0.459492   0.498406  0.0  0.0  0.0  1.0   \n",
       "adults                       4999.0  1.969794   1.566483  0.0  2.0  2.0  2.0   \n",
       "children                     4999.0  0.115623   0.444874  0.0  0.0  0.0  0.0   \n",
       "babies                       4999.0  0.014803   0.122421  0.0  0.0  0.0  0.0   \n",
       "booking_changes              4999.0  0.207241   0.612544  0.0  0.0  0.0  0.0   \n",
       "days_in_waiting_list         4999.0  1.772354  13.546689  0.0  0.0  0.0  0.0   \n",
       "required_car_parking_spaces  4999.0  0.093819   0.292975  0.0  0.0  0.0  0.0   \n",
       "total_of_special_requests    4999.0  0.602120   0.823283  0.0  0.0  0.0  1.0   \n",
       "\n",
       "                               max  \n",
       "is_canceled                    1.0  \n",
       "adults                        55.0  \n",
       "children                      10.0  \n",
       "babies                         2.0  \n",
       "booking_changes               17.0  \n",
       "days_in_waiting_list         122.0  \n",
       "required_car_parking_spaces    2.0  \n",
       "total_of_special_requests      4.0  "
      ]
     },
     "execution_count": 14,
     "metadata": {},
     "output_type": "execute_result"
    }
   ],
   "source": [
    "df1.describe(include='number').T"
   ]
  },
  {
   "cell_type": "code",
   "execution_count": 15,
   "metadata": {
    "ExecuteTime": {
     "end_time": "2020-08-11T04:15:33.871121Z",
     "start_time": "2020-08-11T04:15:33.818153Z"
    },
    "scrolled": true
   },
   "outputs": [
    {
     "data": {
      "text/html": [
       "<div>\n",
       "<style scoped>\n",
       "    .dataframe tbody tr th:only-of-type {\n",
       "        vertical-align: middle;\n",
       "    }\n",
       "\n",
       "    .dataframe tbody tr th {\n",
       "        vertical-align: top;\n",
       "    }\n",
       "\n",
       "    .dataframe thead th {\n",
       "        text-align: right;\n",
       "    }\n",
       "</style>\n",
       "<table border=\"1\" class=\"dataframe\">\n",
       "  <thead>\n",
       "    <tr style=\"text-align: right;\">\n",
       "      <th></th>\n",
       "      <th>count</th>\n",
       "      <th>unique</th>\n",
       "      <th>top</th>\n",
       "      <th>freq</th>\n",
       "    </tr>\n",
       "  </thead>\n",
       "  <tbody>\n",
       "    <tr>\n",
       "      <th>hotel</th>\n",
       "      <td>4999</td>\n",
       "      <td>1</td>\n",
       "      <td>Resort Hotel</td>\n",
       "      <td>4999</td>\n",
       "    </tr>\n",
       "    <tr>\n",
       "      <th>meal</th>\n",
       "      <td>4999</td>\n",
       "      <td>5</td>\n",
       "      <td>BB</td>\n",
       "      <td>3418</td>\n",
       "    </tr>\n",
       "    <tr>\n",
       "      <th>country</th>\n",
       "      <td>4997</td>\n",
       "      <td>56</td>\n",
       "      <td>PRT</td>\n",
       "      <td>3173</td>\n",
       "    </tr>\n",
       "    <tr>\n",
       "      <th>market_segment</th>\n",
       "      <td>4999</td>\n",
       "      <td>6</td>\n",
       "      <td>Online TA</td>\n",
       "      <td>2156</td>\n",
       "    </tr>\n",
       "    <tr>\n",
       "      <th>distribution_channel</th>\n",
       "      <td>4999</td>\n",
       "      <td>3</td>\n",
       "      <td>TA/TO</td>\n",
       "      <td>3657</td>\n",
       "    </tr>\n",
       "    <tr>\n",
       "      <th>reserved_room_type</th>\n",
       "      <td>4999</td>\n",
       "      <td>9</td>\n",
       "      <td>A</td>\n",
       "      <td>3167</td>\n",
       "    </tr>\n",
       "    <tr>\n",
       "      <th>deposit_type</th>\n",
       "      <td>4999</td>\n",
       "      <td>3</td>\n",
       "      <td>No Deposit</td>\n",
       "      <td>4461</td>\n",
       "    </tr>\n",
       "    <tr>\n",
       "      <th>customer_type</th>\n",
       "      <td>4999</td>\n",
       "      <td>4</td>\n",
       "      <td>Transient</td>\n",
       "      <td>3698</td>\n",
       "    </tr>\n",
       "  </tbody>\n",
       "</table>\n",
       "</div>"
      ],
      "text/plain": [
       "                     count unique           top  freq\n",
       "hotel                 4999      1  Resort Hotel  4999\n",
       "meal                  4999      5            BB  3418\n",
       "country               4997     56           PRT  3173\n",
       "market_segment        4999      6     Online TA  2156\n",
       "distribution_channel  4999      3         TA/TO  3657\n",
       "reserved_room_type    4999      9             A  3167\n",
       "deposit_type          4999      3    No Deposit  4461\n",
       "customer_type         4999      4     Transient  3698"
      ]
     },
     "execution_count": 15,
     "metadata": {},
     "output_type": "execute_result"
    }
   ],
   "source": [
    "df1.describe(include='object').T"
   ]
  },
  {
   "cell_type": "code",
   "execution_count": 43,
   "metadata": {
    "ExecuteTime": {
     "end_time": "2020-08-11T04:25:57.098411Z",
     "start_time": "2020-08-11T04:25:57.077424Z"
    },
    "scrolled": true
   },
   "outputs": [],
   "source": [
    "labelencoder = LabelEncoder()\n",
    "onehotencoder = OneHotEncoder()\n",
    "df1['deposit_type_encode']=labelencoder.fit_transform(df1['deposit_type'])\n",
    "df1['customer_type_encode']=labelencoder.fit_transform(df1['customer_type'])\n",
    "df1['distribution_channel_encode']=labelencoder.fit_transform(df1['distribution_channel'])\n",
    "df1['meal_encode']=labelencoder.fit_transform(df1['meal'])\n",
    "df1['market_segment_encode']=labelencoder.fit_transform(df1['market_segment'])\n",
    "df1['reserved_room_type_encode']=labelencoder.fit_transform(df1['reserved_room_type'])\n",
    "df1['country_encode'] = labelencoder.fit_transform(df1['country'])\n",
    "# df1['country_encode']=labelencoder.fit_transform(df1['country'])"
   ]
  },
  {
   "cell_type": "markdown",
   "metadata": {},
   "source": [
    "## Checking Correlation"
   ]
  },
  {
   "cell_type": "code",
   "execution_count": 45,
   "metadata": {
    "ExecuteTime": {
     "end_time": "2020-08-11T04:26:10.634670Z",
     "start_time": "2020-08-11T04:26:08.618822Z"
    }
   },
   "outputs": [
    {
     "data": {
      "image/png": "[encoded data removed]",
      "text/plain": [
       "<Figure size 720x720 with 2 Axes>"
      ]
     },
     "metadata": {
      "needs_background": "light"
     },
     "output_type": "display_data"
    }
   ],
   "source": [
    "corr = df1.corr()\n",
    "fig, ax = plt.subplots(figsize = (10,10))\n",
    "colormap = sns.diverging_palette(220, 10, as_cmap=True)\n",
    "dropSelf = np.zeros_like(corr)\n",
    "dropSelf[np.triu_indices_from(dropSelf)] = True\n",
    "colormap = sns.diverging_palette(220, 10, as_cmap = True)\n",
    "sns.heatmap(corr, cmap=colormap, linewidths=0.5, annot=True, fmt=\".2f\", mask=dropSelf)\n",
    "plt.show()"
   ]
  },
  {
   "cell_type": "code",
   "execution_count": 46,
   "metadata": {
    "ExecuteTime": {
     "end_time": "2020-08-11T04:26:11.488393Z",
     "start_time": "2020-08-11T04:26:11.470395Z"
    }
   },
   "outputs": [
    {
     "data": {
      "text/plain": [
       "country_encode                 0.525279\n",
       "deposit_type_encode            0.197125\n",
       "market_segment_encode          0.058982\n",
       "distribution_channel_encode    0.047274\n",
       "adults                         0.045378\n",
       "children                       0.024751\n",
       "customer_type_encode          -0.009754\n",
       "meal_encode                   -0.020150\n",
       "reserved_room_type_encode     -0.026795\n",
       "babies                        -0.029523\n",
       "total_of_special_requests     -0.082501\n",
       "days_in_waiting_list          -0.113431\n",
       "booking_changes               -0.181139\n",
       "required_car_parking_spaces   -0.295340\n",
       "Name: is_canceled, dtype: float64"
      ]
     },
     "execution_count": 46,
     "metadata": {},
     "output_type": "execute_result"
    }
   ],
   "source": [
    "correlation = df1.corr()[\"is_canceled\"]\n",
    "correlation.sort_values(ascending=False)[1:]"
   ]
  },
  {
   "cell_type": "markdown",
   "metadata": {},
   "source": [
    "Dari heatmap dan correlation diatas didapatkan bahwasanya yang berkorelasi secara linear ataupun terbalik terhadap *feature* `is_canceled`.\n",
    "\n",
    "Pemilihan *features* adalah:\n",
    "\n",
    "- `country_encode`\n",
    "- `deposit_type_encode`\n",
    "- `market_segment_encode`\n",
    "- `distribution_channel_encode`\n",
    "- `adults`\n",
    "- `required_car_parking_spaces`\n",
    "- `booking_changes`\n",
    "- `days_in_waiting_list`\n"
   ]
  },
  {
   "cell_type": "markdown",
   "metadata": {},
   "source": [
    "## Splitting the DataSet"
   ]
  },
  {
   "cell_type": "code",
   "execution_count": 47,
   "metadata": {
    "ExecuteTime": {
     "end_time": "2020-08-11T04:26:35.583203Z",
     "start_time": "2020-08-11T04:26:35.577208Z"
    }
   },
   "outputs": [],
   "source": [
    "x = df1[['country_encode','deposit_type_encode','market_segment_encode','distribution_channel_encode',\n",
    "         'adults','required_car_parking_spaces',\n",
    "        'booking_changes','days_in_waiting_list']]\n",
    "y = df1[['is_canceled']]"
   ]
  },
  {
   "cell_type": "code",
   "execution_count": 48,
   "metadata": {
    "ExecuteTime": {
     "end_time": "2020-08-11T04:26:36.725813Z",
     "start_time": "2020-08-11T04:26:36.714820Z"
    }
   },
   "outputs": [],
   "source": [
    "x_train, x_test, y_train, y_test = train_test_split(x, y, test_size=0.20, random_state=0)"
   ]
  },
  {
   "cell_type": "code",
   "execution_count": 49,
   "metadata": {
    "ExecuteTime": {
     "end_time": "2020-08-11T04:26:37.072717Z",
     "start_time": "2020-08-11T04:26:37.047731Z"
    }
   },
   "outputs": [],
   "source": [
    "x_train = RobustScaler().fit_transform(x_train)\n",
    "x_test = RobustScaler().fit_transform(x_test)"
   ]
  },
  {
   "cell_type": "markdown",
   "metadata": {},
   "source": [
    "## Fitting Model"
   ]
  },
  {
   "cell_type": "markdown",
   "metadata": {},
   "source": [
    "### Before Tunning"
   ]
  },
  {
   "cell_type": "markdown",
   "metadata": {},
   "source": [
    "**Model Sebelum Hyperparameter Tuning**\n",
    "\n",
    "model_LR : LogisticRegression\n",
    "model_RF : RandomForestClassifier\n",
    "model_RF : DecisionTreeClassifier"
   ]
  },
  {
   "cell_type": "code",
   "execution_count": 50,
   "metadata": {
    "ExecuteTime": {
     "end_time": "2020-08-11T04:26:40.513290Z",
     "start_time": "2020-08-11T04:26:40.178482Z"
    },
    "scrolled": true
   },
   "outputs": [
    {
     "data": {
      "text/plain": [
       "DecisionTreeClassifier()"
      ]
     },
     "execution_count": 50,
     "metadata": {},
     "output_type": "execute_result"
    }
   ],
   "source": [
    "model_LR = LogisticRegression()\n",
    "model_RF = RandomForestClassifier()\n",
    "model_DT = DecisionTreeClassifier()\n",
    "model_LR.fit(x_train, y_train)\n",
    "model_RF.fit(x_train, y_train)\n",
    "model_DT.fit(x_train, y_train)\n",
    "\n",
    "# print(model_LR.coef_)\n",
    "# print(model_LR.intercept_)\n",
    "\n",
    "# m = model_LR_ori.coef_[0][0]\n",
    "# c = model_LR_ori.intercept_[0]"
   ]
  },
  {
   "cell_type": "code",
   "execution_count": 51,
   "metadata": {
    "ExecuteTime": {
     "end_time": "2020-08-11T04:26:41.917729Z",
     "start_time": "2020-08-11T04:26:41.877756Z"
    }
   },
   "outputs": [],
   "source": [
    "# prediksi\n",
    "y_pred_LR = model_LR.predict(x_test)\n",
    "y_pred_RF = model_RF.predict(x_test) \n",
    "y_pred_DT = model_DT.predict(x_test) "
   ]
  },
  {
   "cell_type": "markdown",
   "metadata": {},
   "source": [
    "## Performance Model"
   ]
  },
  {
   "cell_type": "code",
   "execution_count": 52,
   "metadata": {
    "ExecuteTime": {
     "end_time": "2020-08-11T04:26:43.682468Z",
     "start_time": "2020-08-11T04:26:43.593524Z"
    }
   },
   "outputs": [
    {
     "name": "stdout",
     "output_type": "stream",
     "text": [
      "Logistic Regression Model : 0.8108581436077058\n",
      "Logistic Random Forest Model : 0.8696522391793845\n",
      "Logistic Decision Tree Model : 0.8696522391793845\n"
     ]
    }
   ],
   "source": [
    "print('Logistic Regression Model :',model_LR.score(x_train, y_train))\n",
    "print('Logistic Random Forest Model :',model_RF.score(x_train, y_train))\n",
    "print('Logistic Decision Tree Model :',model_DT.score(x_train, y_train))"
   ]
  },
  {
   "cell_type": "markdown",
   "metadata": {},
   "source": [
    "### Logistic Regression"
   ]
  },
  {
   "cell_type": "code",
   "execution_count": 53,
   "metadata": {
    "ExecuteTime": {
     "end_time": "2020-08-11T04:26:46.478882Z",
     "start_time": "2020-08-11T04:26:46.464895Z"
    },
    "scrolled": true
   },
   "outputs": [
    {
     "name": "stdout",
     "output_type": "stream",
     "text": [
      "              precision    recall  f1-score   support\n",
      "\n",
      "           0       0.90      0.75      0.82       546\n",
      "           1       0.75      0.90      0.82       454\n",
      "\n",
      "    accuracy                           0.82      1000\n",
      "   macro avg       0.83      0.83      0.82      1000\n",
      "weighted avg       0.83      0.82      0.82      1000\n",
      "\n"
     ]
    }
   ],
   "source": [
    "print(classification_report(y_test, y_pred_LR))"
   ]
  },
  {
   "cell_type": "markdown",
   "metadata": {},
   "source": [
    "### Random Forest Classifier"
   ]
  },
  {
   "cell_type": "code",
   "execution_count": 54,
   "metadata": {
    "ExecuteTime": {
     "end_time": "2020-08-11T04:26:47.319052Z",
     "start_time": "2020-08-11T04:26:47.304060Z"
    }
   },
   "outputs": [
    {
     "name": "stdout",
     "output_type": "stream",
     "text": [
      "              precision    recall  f1-score   support\n",
      "\n",
      "           0       0.95      0.79      0.86       546\n",
      "           1       0.79      0.95      0.86       454\n",
      "\n",
      "    accuracy                           0.86      1000\n",
      "   macro avg       0.87      0.87      0.86      1000\n",
      "weighted avg       0.88      0.86      0.86      1000\n",
      "\n"
     ]
    }
   ],
   "source": [
    "print(classification_report(y_test, y_pred_RF))"
   ]
  },
  {
   "cell_type": "markdown",
   "metadata": {},
   "source": [
    "### Decision Tree Classifier"
   ]
  },
  {
   "cell_type": "code",
   "execution_count": 55,
   "metadata": {
    "ExecuteTime": {
     "end_time": "2020-08-11T04:26:47.769921Z",
     "start_time": "2020-08-11T04:26:47.753929Z"
    },
    "scrolled": true
   },
   "outputs": [
    {
     "name": "stdout",
     "output_type": "stream",
     "text": [
      "              precision    recall  f1-score   support\n",
      "\n",
      "           0       0.94      0.80      0.86       546\n",
      "           1       0.80      0.94      0.86       454\n",
      "\n",
      "    accuracy                           0.86      1000\n",
      "   macro avg       0.87      0.87      0.86      1000\n",
      "weighted avg       0.87      0.86      0.86      1000\n",
      "\n"
     ]
    }
   ],
   "source": [
    "print(classification_report(y_test, y_pred_DT))"
   ]
  },
  {
   "cell_type": "markdown",
   "metadata": {},
   "source": [
    "Dapat dilihat "
   ]
  },
  {
   "cell_type": "markdown",
   "metadata": {},
   "source": [
    "## Evaluation Before Tunning"
   ]
  },
  {
   "cell_type": "markdown",
   "metadata": {},
   "source": [
    "### Logistic Regression"
   ]
  },
  {
   "cell_type": "code",
   "execution_count": 77,
   "metadata": {
    "ExecuteTime": {
     "end_time": "2020-08-11T04:58:41.451088Z",
     "start_time": "2020-08-11T04:58:41.114279Z"
    },
    "scrolled": true
   },
   "outputs": [
    {
     "data": {
      "image/png": "[encoded data removed]",
      "text/plain": [
       "<Figure size 576x360 with 2 Axes>"
      ]
     },
     "metadata": {
      "needs_background": "light"
     },
     "output_type": "display_data"
    }
   ],
   "source": [
    "f, ax = plt.subplots(figsize=(8,5))\n",
    "sns.heatmap(confusion_matrix(y_test, y_pred_LR), annot=True, fmt='.0f', ax=ax)\n",
    "plt.xlabel('y Predicted')\n",
    "plt.ylabel('y Actual')\n",
    "plt.show()"
   ]
  },
  {
   "cell_type": "code",
   "execution_count": 94,
   "metadata": {
    "ExecuteTime": {
     "end_time": "2020-08-11T05:44:05.950282Z",
     "start_time": "2020-08-11T05:44:05.937287Z"
    }
   },
   "outputs": [
    {
     "name": "stdout",
     "output_type": "stream",
     "text": [
      "TN = 411 FP = 135 FN = 45 TP = 409\n"
     ]
    }
   ],
   "source": [
    "tn, fp, fn, tp = confusion_matrix(y_test, y_pred_LR).ravel()\n",
    "print('TN =', tn, 'FP =', fp, \"FN =\", fn, \"TP =\", tp)"
   ]
  },
  {
   "cell_type": "markdown",
   "metadata": {},
   "source": [
    "### Random Forest Classifier"
   ]
  },
  {
   "cell_type": "code",
   "execution_count": 78,
   "metadata": {
    "ExecuteTime": {
     "end_time": "2020-08-11T04:58:41.807633Z",
     "start_time": "2020-08-11T04:58:41.456084Z"
    }
   },
   "outputs": [
    {
     "data": {
      "image/png": "[encoded data removed]",
      "text/plain": [
       "<Figure size 576x360 with 2 Axes>"
      ]
     },
     "metadata": {
      "needs_background": "light"
     },
     "output_type": "display_data"
    }
   ],
   "source": [
    "f, ax = plt.subplots(figsize=(8,5))\n",
    "sns.heatmap(confusion_matrix(y_test, y_pred_RF), annot=True, fmt='.0f', ax=ax)\n",
    "plt.xlabel('y Predicted')\n",
    "plt.ylabel('y Actual')\n",
    "plt.show()"
   ]
  },
  {
   "cell_type": "code",
   "execution_count": 95,
   "metadata": {
    "ExecuteTime": {
     "end_time": "2020-08-11T05:44:08.049872Z",
     "start_time": "2020-08-11T05:44:08.039878Z"
    }
   },
   "outputs": [
    {
     "name": "stdout",
     "output_type": "stream",
     "text": [
      "TN = 434 FP = 112 FN = 24 TP = 430\n"
     ]
    }
   ],
   "source": [
    "tn, fp, fn, tp = confusion_matrix(y_test, y_pred_RF).ravel()\n",
    "print('TN =', tn, 'FP =', fp, \"FN =\", fn, \"TP =\", tp)"
   ]
  },
  {
   "cell_type": "markdown",
   "metadata": {},
   "source": [
    "### Decision Tree Classifier"
   ]
  },
  {
   "cell_type": "code",
   "execution_count": 79,
   "metadata": {
    "ExecuteTime": {
     "end_time": "2020-08-11T04:58:42.631841Z",
     "start_time": "2020-08-11T04:58:42.310004Z"
    },
    "scrolled": true
   },
   "outputs": [
    {
     "data": {
      "image/png": "[encoded data removed]",
      "text/plain": [
       "<Figure size 576x360 with 2 Axes>"
      ]
     },
     "metadata": {
      "needs_background": "light"
     },
     "output_type": "display_data"
    }
   ],
   "source": [
    "f, ax = plt.subplots(figsize=(8,5))\n",
    "sns.heatmap(confusion_matrix(y_test, y_pred_DT), annot=True, fmt='.0f', ax=ax)\n",
    "plt.xlabel('y Predicted')\n",
    "plt.ylabel('y Actual')\n",
    "plt.show()"
   ]
  },
  {
   "cell_type": "code",
   "execution_count": 96,
   "metadata": {
    "ExecuteTime": {
     "end_time": "2020-08-11T05:44:09.996774Z",
     "start_time": "2020-08-11T05:44:09.987778Z"
    }
   },
   "outputs": [
    {
     "name": "stdout",
     "output_type": "stream",
     "text": [
      "TN = 437 FP = 109 FN = 28 TP = 426\n"
     ]
    }
   ],
   "source": [
    "tn, fp, fn, tp = confusion_matrix(y_test, y_pred_DT).ravel()\n",
    "print('TN =', tn, 'FP =', fp, \"FN =\", fn, \"TP =\", tp)"
   ]
  },
  {
   "cell_type": "markdown",
   "metadata": {},
   "source": [
    "##  Hyperparameter Tunning"
   ]
  },
  {
   "cell_type": "markdown",
   "metadata": {},
   "source": [
    "**Parameter pada model**"
   ]
  },
  {
   "cell_type": "code",
   "execution_count": 60,
   "metadata": {
    "ExecuteTime": {
     "end_time": "2020-08-11T04:32:52.038363Z",
     "start_time": "2020-08-11T04:32:52.031364Z"
    }
   },
   "outputs": [],
   "source": [
    "# DecisionTree Parameter\n",
    "criterion = [\"gini\", \"entropy\"]\n",
    "splitter = [\"best\", \"random\"]\n",
    "max_depth=[10,20,30,40,50,60,70,80,90,100]\n",
    "min_samples_split= [2, 5, 10]\n",
    "min_samples_leaf= [1, 2, 4]\n",
    "\n",
    "param_DT = {'criterion' : criterion, 'splitter' : splitter, 'max_depth':max_depth,'min_samples_leaf':min_samples_leaf, 'min_samples_split':min_samples_split}"
   ]
  },
  {
   "cell_type": "code",
   "execution_count": 62,
   "metadata": {
    "ExecuteTime": {
     "end_time": "2020-08-11T04:33:03.809548Z",
     "start_time": "2020-08-11T04:33:03.803551Z"
    }
   },
   "outputs": [],
   "source": [
    "# LogisticRegression Parameter\n",
    "penalty = ['l1', 'l2', 'elasticnet', 'none']\n",
    "solver = ['newton-cg', 'lbfgs', 'liblinear', 'sag', 'saga']\n",
    "max_iter = [1, 10, 100, 1000, 10000]\n",
    "\n",
    "param_LR = {'penalty':penalty, 'solver':solver, 'max_iter':max_iter}"
   ]
  },
  {
   "cell_type": "code",
   "execution_count": 61,
   "metadata": {
    "ExecuteTime": {
     "end_time": "2020-08-11T04:33:01.509781Z",
     "start_time": "2020-08-11T04:33:01.503787Z"
    }
   },
   "outputs": [],
   "source": [
    "# RandomForest Parameter\n",
    "max_depth=[10,20,30,40,50,60,70,80,90,100]\n",
    "min_samples_leaf= [1, 2, 4]\n",
    "min_samples_split= [2, 5, 10]\n",
    "n_estimators=[200, 400, 600, 800, 1000, 1200, 1400, 1600, 1800, 2000]\n",
    "\n",
    "param_RF = {'max_depth':max_depth,'min_samples_leaf':min_samples_leaf, 'min_samples_split':min_samples_split,'n_estimators':n_estimators}"
   ]
  },
  {
   "cell_type": "markdown",
   "metadata": {},
   "source": [
    "### Randomized Search CV"
   ]
  },
  {
   "cell_type": "markdown",
   "metadata": {},
   "source": [
    "#### Logistic Regression"
   ]
  },
  {
   "cell_type": "code",
   "execution_count": 63,
   "metadata": {
    "ExecuteTime": {
     "end_time": "2020-08-11T04:33:21.789104Z",
     "start_time": "2020-08-11T04:33:21.786105Z"
    }
   },
   "outputs": [],
   "source": [
    "model_LR_RS = RandomizedSearchCV(\n",
    "    estimator = model_LR, param_distributions= param_LR, cv = 5)"
   ]
  },
  {
   "cell_type": "code",
   "execution_count": 64,
   "metadata": {
    "ExecuteTime": {
     "end_time": "2020-08-11T04:34:00.791245Z",
     "start_time": "2020-08-11T04:33:44.913110Z"
    }
   },
   "outputs": [
    {
     "data": {
      "text/plain": [
       "{'solver': 'lbfgs', 'penalty': 'none', 'max_iter': 1000}"
      ]
     },
     "execution_count": 64,
     "metadata": {},
     "output_type": "execute_result"
    }
   ],
   "source": [
    "model_LR_RS.fit(x_train, y_train)\n",
    "model_LR_RS.best_params_"
   ]
  },
  {
   "cell_type": "markdown",
   "metadata": {},
   "source": [
    "#### Random Forest Classifier"
   ]
  },
  {
   "cell_type": "code",
   "execution_count": 65,
   "metadata": {
    "ExecuteTime": {
     "end_time": "2020-08-11T04:34:38.819907Z",
     "start_time": "2020-08-11T04:34:38.815910Z"
    }
   },
   "outputs": [],
   "source": [
    "model_RF_RS = RandomizedSearchCV(\n",
    "    model_RF, param_RF, cv = 10)"
   ]
  },
  {
   "cell_type": "code",
   "execution_count": 66,
   "metadata": {
    "ExecuteTime": {
     "end_time": "2020-08-11T04:40:01.688800Z",
     "start_time": "2020-08-11T04:34:39.273221Z"
    }
   },
   "outputs": [
    {
     "data": {
      "text/plain": [
       "{'n_estimators': 600,\n",
       " 'min_samples_split': 5,\n",
       " 'min_samples_leaf': 2,\n",
       " 'max_depth': 30}"
      ]
     },
     "execution_count": 66,
     "metadata": {},
     "output_type": "execute_result"
    }
   ],
   "source": [
    "model_RF_RS.fit(x_train, y_train)\n",
    "model_RF_RS.best_params_"
   ]
  },
  {
   "cell_type": "markdown",
   "metadata": {},
   "source": [
    "#### Decision Tree Classifier"
   ]
  },
  {
   "cell_type": "code",
   "execution_count": 67,
   "metadata": {
    "ExecuteTime": {
     "end_time": "2020-08-11T04:40:37.812185Z",
     "start_time": "2020-08-11T04:40:37.807190Z"
    }
   },
   "outputs": [],
   "source": [
    "model_DT_RS = RandomizedSearchCV(\n",
    "    model_DT, param_DT, cv = 5)"
   ]
  },
  {
   "cell_type": "code",
   "execution_count": 68,
   "metadata": {
    "ExecuteTime": {
     "end_time": "2020-08-11T04:40:38.480212Z",
     "start_time": "2020-08-11T04:40:38.068446Z"
    }
   },
   "outputs": [
    {
     "data": {
      "text/plain": [
       "{'splitter': 'best',\n",
       " 'min_samples_split': 2,\n",
       " 'min_samples_leaf': 2,\n",
       " 'max_depth': 20,\n",
       " 'criterion': 'gini'}"
      ]
     },
     "execution_count": 68,
     "metadata": {},
     "output_type": "execute_result"
    }
   ],
   "source": [
    "model_DT_RS.fit(x_train, y_train)\n",
    "model_DT_RS.best_params_"
   ]
  },
  {
   "cell_type": "markdown",
   "metadata": {},
   "source": [
    "## Tunning"
   ]
  },
  {
   "cell_type": "code",
   "execution_count": 71,
   "metadata": {
    "ExecuteTime": {
     "end_time": "2020-08-11T04:53:16.139350Z",
     "start_time": "2020-08-11T04:53:14.349373Z"
    }
   },
   "outputs": [
    {
     "data": {
      "text/plain": [
       "DecisionTreeClassifier(max_depth=20, min_samples_leaf=2)"
      ]
     },
     "execution_count": 71,
     "metadata": {},
     "output_type": "execute_result"
    }
   ],
   "source": [
    "model_LR_tun = LogisticRegression(solver= 'lbfgs', penalty= 'none', max_iter = 1000)\n",
    "model_RF_tun = RandomForestClassifier(n_estimators= 600, min_samples_split= 5, min_samples_leaf= 2, max_depth= 30)\n",
    "model_DT_tun = DecisionTreeClassifier(splitter='best', min_samples_split= 2, min_samples_leaf= 2, max_depth= 20, criterion= 'gini')\n",
    "model_LR_tun.fit(x_train, y_train)\n",
    "model_RF_tun.fit(x_train, y_train)\n",
    "model_DT_tun.fit(x_train, y_train)"
   ]
  },
  {
   "cell_type": "code",
   "execution_count": 72,
   "metadata": {
    "ExecuteTime": {
     "end_time": "2020-08-11T04:53:39.768598Z",
     "start_time": "2020-08-11T04:53:39.588660Z"
    }
   },
   "outputs": [],
   "source": [
    "# prediksi\n",
    "y_pred_LR_tun = model_LR_tun.predict(x_test)\n",
    "y_pred_RF_tun = model_RF_tun.predict(x_test) \n",
    "y_pred_DT_tun = model_DT_tun.predict(x_test) "
   ]
  },
  {
   "cell_type": "markdown",
   "metadata": {},
   "source": [
    "### Performance Model"
   ]
  },
  {
   "cell_type": "code",
   "execution_count": null,
   "metadata": {},
   "outputs": [],
   "source": [
    "print('Logistic Regression Model Tunning :',model_LR_tun.score(x_train, y_train))\n",
    "print('Logistic Random Forest Model Tunning :',model_RF_tun.score(x_train, y_train))\n",
    "print('Logistic Decision Tree Model Tunning :',model_DT_tun.score(x_train, y_train))"
   ]
  },
  {
   "cell_type": "markdown",
   "metadata": {},
   "source": [
    "#### Logistic Regression"
   ]
  },
  {
   "cell_type": "code",
   "execution_count": 53,
   "metadata": {
    "ExecuteTime": {
     "end_time": "2020-08-11T04:26:46.478882Z",
     "start_time": "2020-08-11T04:26:46.464895Z"
    },
    "scrolled": true
   },
   "outputs": [
    {
     "name": "stdout",
     "output_type": "stream",
     "text": [
      "              precision    recall  f1-score   support\n",
      "\n",
      "           0       0.90      0.75      0.82       546\n",
      "           1       0.75      0.90      0.82       454\n",
      "\n",
      "    accuracy                           0.82      1000\n",
      "   macro avg       0.83      0.83      0.82      1000\n",
      "weighted avg       0.83      0.82      0.82      1000\n",
      "\n"
     ]
    }
   ],
   "source": [
    "print(classification_report(y_test, y_pred_LR_tun))"
   ]
  },
  {
   "cell_type": "markdown",
   "metadata": {},
   "source": [
    "#### Random Forest Classifier"
   ]
  },
  {
   "cell_type": "code",
   "execution_count": 54,
   "metadata": {
    "ExecuteTime": {
     "end_time": "2020-08-11T04:26:47.319052Z",
     "start_time": "2020-08-11T04:26:47.304060Z"
    }
   },
   "outputs": [
    {
     "name": "stdout",
     "output_type": "stream",
     "text": [
      "              precision    recall  f1-score   support\n",
      "\n",
      "           0       0.95      0.79      0.86       546\n",
      "           1       0.79      0.95      0.86       454\n",
      "\n",
      "    accuracy                           0.86      1000\n",
      "   macro avg       0.87      0.87      0.86      1000\n",
      "weighted avg       0.88      0.86      0.86      1000\n",
      "\n"
     ]
    }
   ],
   "source": [
    "print(classification_report(y_test, y_pred_RF_tun))"
   ]
  },
  {
   "cell_type": "markdown",
   "metadata": {},
   "source": [
    "#### Decision Tree Classifier"
   ]
  },
  {
   "cell_type": "code",
   "execution_count": 55,
   "metadata": {
    "ExecuteTime": {
     "end_time": "2020-08-11T04:26:47.769921Z",
     "start_time": "2020-08-11T04:26:47.753929Z"
    },
    "scrolled": true
   },
   "outputs": [
    {
     "name": "stdout",
     "output_type": "stream",
     "text": [
      "              precision    recall  f1-score   support\n",
      "\n",
      "           0       0.94      0.80      0.86       546\n",
      "           1       0.80      0.94      0.86       454\n",
      "\n",
      "    accuracy                           0.86      1000\n",
      "   macro avg       0.87      0.87      0.86      1000\n",
      "weighted avg       0.87      0.86      0.86      1000\n",
      "\n"
     ]
    }
   ],
   "source": [
    "print(classification_report(y_test, y_pred_DT_tun))"
   ]
  },
  {
   "cell_type": "markdown",
   "metadata": {},
   "source": [
    "### Evaluation After Tunning"
   ]
  },
  {
   "cell_type": "markdown",
   "metadata": {},
   "source": [
    "- Cancel 1 (Positive)\n",
    "- No Cancel 0 (Negative)"
   ]
  },
  {
   "cell_type": "markdown",
   "metadata": {},
   "source": [
    "#### Logistic Regression"
   ]
  },
  {
   "cell_type": "code",
   "execution_count": 80,
   "metadata": {
    "ExecuteTime": {
     "end_time": "2020-08-11T05:04:39.291110Z",
     "start_time": "2020-08-11T05:04:38.950286Z"
    }
   },
   "outputs": [
    {
     "data": {
      "image/png": "[encoded data removed]",
      "text/plain": [
       "<Figure size 576x360 with 2 Axes>"
      ]
     },
     "metadata": {
      "needs_background": "light"
     },
     "output_type": "display_data"
    }
   ],
   "source": [
    "f, ax = plt.subplots(figsize=(8,5))\n",
    "sns.heatmap(confusion_matrix(y_test, y_pred_LR_tun), annot=True, fmt='.0f', ax=ax)\n",
    "plt.xlabel('y Predicted')\n",
    "plt.ylabel('y Actual')\n",
    "plt.show()"
   ]
  },
  {
   "cell_type": "code",
   "execution_count": 97,
   "metadata": {
    "ExecuteTime": {
     "end_time": "2020-08-11T05:44:15.021362Z",
     "start_time": "2020-08-11T05:44:15.010373Z"
    }
   },
   "outputs": [
    {
     "name": "stdout",
     "output_type": "stream",
     "text": [
      "TN = 411 FP = 135 FN = 45 TP = 409\n"
     ]
    }
   ],
   "source": [
    "tn, fp, fn, tp = confusion_matrix(y_test, y_pred_LR_tun).ravel()\n",
    "print('TN =', tn, 'FP =', fp, \"FN =\", fn, \"TP =\", tp)"
   ]
  },
  {
   "cell_type": "markdown",
   "metadata": {},
   "source": [
    "#### Random Forest Classifier"
   ]
  },
  {
   "cell_type": "code",
   "execution_count": 81,
   "metadata": {
    "ExecuteTime": {
     "end_time": "2020-08-11T05:04:39.679885Z",
     "start_time": "2020-08-11T05:04:39.294109Z"
    }
   },
   "outputs": [
    {
     "data": {
      "image/png": "[encoded data removed]",
      "text/plain": [
       "<Figure size 576x360 with 2 Axes>"
      ]
     },
     "metadata": {
      "needs_background": "light"
     },
     "output_type": "display_data"
    }
   ],
   "source": [
    "f, ax = plt.subplots(figsize=(8,5))\n",
    "sns.heatmap(confusion_matrix(y_test, y_pred_RF_tun), annot=True, fmt='.0f', ax=ax)\n",
    "plt.xlabel('y Predicted')\n",
    "plt.ylabel('y Actual')\n",
    "plt.show()"
   ]
  },
  {
   "cell_type": "code",
   "execution_count": 98,
   "metadata": {
    "ExecuteTime": {
     "end_time": "2020-08-11T05:44:17.835365Z",
     "start_time": "2020-08-11T05:44:17.826391Z"
    }
   },
   "outputs": [
    {
     "name": "stdout",
     "output_type": "stream",
     "text": [
      "TN = 437 FP = 109 FN = 26 TP = 428\n"
     ]
    }
   ],
   "source": [
    "tn, fp, fn, tp = confusion_matrix(y_test, y_pred_RF_tun).ravel()\n",
    "print('TN =', tn, 'FP =', fp, \"FN =\", fn, \"TP =\", tp)"
   ]
  },
  {
   "cell_type": "markdown",
   "metadata": {},
   "source": [
    "#### Decision Tree Classifier"
   ]
  },
  {
   "cell_type": "code",
   "execution_count": 83,
   "metadata": {
    "ExecuteTime": {
     "end_time": "2020-08-11T05:09:00.685617Z",
     "start_time": "2020-08-11T05:09:00.321824Z"
    }
   },
   "outputs": [
    {
     "data": {
      "image/png": "[encoded data removed]",
      "text/plain": [
       "<Figure size 576x360 with 2 Axes>"
      ]
     },
     "metadata": {
      "needs_background": "light"
     },
     "output_type": "display_data"
    }
   ],
   "source": [
    "f, ax = plt.subplots(figsize=(8,5))\n",
    "sns.heatmap(confusion_matrix(y_test, y_pred_DT_tun), annot=True, fmt='.0f', ax=ax)\n",
    "plt.xlabel('y Predicted')\n",
    "plt.ylabel('y Actual')\n",
    "plt.show()"
   ]
  },
  {
   "cell_type": "code",
   "execution_count": 99,
   "metadata": {
    "ExecuteTime": {
     "end_time": "2020-08-11T05:44:19.646363Z",
     "start_time": "2020-08-11T05:44:19.635371Z"
    }
   },
   "outputs": [
    {
     "name": "stdout",
     "output_type": "stream",
     "text": [
      "TN = 434 FP = 112 FN = 27 TP = 427\n"
     ]
    }
   ],
   "source": [
    "tn, fp, fn, tp = confusion_matrix(y_test, y_pred_DT_tun).ravel()\n",
    "print('TN =', tn, 'FP =', fp, \"FN =\", fn, \"TP =\", tp)"
   ]
  },
  {
   "cell_type": "markdown",
   "metadata": {},
   "source": [
    "# D. Model Evaluation (30 poin)\n",
    "\n",
    "Ada 2 jenis kesalahan yang mungkin terjadi dalam model ML di studi kasus ini, yaitu:\n",
    "\n",
    "Model memprediksi user akan cancel booking (membatalkan pesanan), padahal sebenarnya/realisasinya user tidak membatalkan pesanan.\n",
    "Model memprediksi user tidak membatalkan pesanan, padahal sebenarnya/realisasinya user cancel booking (membatalkan pesanan)."
   ]
  },
  {
   "cell_type": "markdown",
   "metadata": {},
   "source": [
    "## Kesimpulan Evaluation Model: Before and After Tunning"
   ]
  },
  {
   "cell_type": "markdown",
   "metadata": {},
   "source": [
    "**1. Before Tunning**\n",
    "\n",
    "- Cancel = 1 (Positive)\n",
    "- No Cancel =  0 (Negative)\n",
    "\n",
    "- Logistic Regression\n",
    "\n",
    "        F1 Score : 0.82\n",
    "        TN = 411 FP = 135 FN = 45 TP = 409\n",
    "\n",
    "- RandomForest Classifier\n",
    "\n",
    "        F1 Score : 0.86\n",
    "        TN = 434 FP = 112 FN = 24 TP = 430\n",
    "\n",
    "- Decision Tree Classifier\n",
    "\n",
    "        F1 Score : 0.86\n",
    "        TN = 437 FP = 109 FN = 28 TP = 426\n",
    "\n",
    "**2. After Tunning Tunning**\n",
    "\n",
    "- Logistic Regression\n",
    "\n",
    "        F1 Score : 0.86\n",
    "        TN = 411 FP = 135 FN = 45 TP = 409\n",
    "\n",
    "- RandomForest Classifier\n",
    "\n",
    "        F1 Score : 0.86\n",
    "        TN = 437 FP = 109 FN = 26 TP = 428\n",
    "\n",
    "- Decision Tree Classifier\n",
    "\n",
    "        F1 Score : 0.86\n",
    "        TN = 434 FP = 112 FN = 27 TP = 427\n",
    "        \n",
    "<br>\n",
    "\n",
    "\n",
    "**************\n",
    "\n",
    "\n",
    "**<span style='color:Indianred'>Model yang dipakai untuk mendekati prediksi secara akurat Before maupun After Tunning Adalah `RandomForestClassifier` ataupun `DecisionTree Classifier` dapat dilihat dari nilai pada f1 Score 0.86. Jika `f1 score` mendekati 1 maka Nilai `Recall` ataupun `Precision` mendekati kondisi sempurna/*perfect* dalam memprediksi.</span>**\n",
    "\n",
    "\n",
    "\n",
    "- Evaluasi Keseluruhan terhadap dampak bisnis\n",
    "\n",
    "1. Ketika diprediksi No Cancel ( Negative ) dan aktual Cancel (Positive) dalam booking case. Prediksi 0 dan aktual nya 1. Dapat dilihat jumlah `TN`,`FP`,`FN`,`TP` yang tertera pada evaluation model.\n",
    "\n",
    "        - Example dari After Tunning Decision Tree Classifier\n",
    "    \n",
    "    - TN (True Negative) : Aktual dan Prediksi No Cancel (0) berjumlah 434.\n",
    "    \n",
    "    - FN (False Negative) : Aktualnya Cancel (1) dan Prediksi No Cancel (0) berjumlah 27\n",
    "    \n",
    "            Artinya jumlah 27 kondisi yang sudah meng-cancel, diprediksi tidak meng-cancel maka ini akan merugikan untuk revenue perusaahan\n",
    "\n",
    "    - FP (False Positive) : Aktual No Cancel dan Prediksi Cancel  berjumlah 112.\n",
    "    \n",
    "    - TP (True Positive) : Aktualnya Cancel dan Prediksi Cancel berjumlah 427.\n",
    "    \n",
    "            Artinya jumlah 112 yang diprediksi cancel akan mengakibatkan kerugian untuk revenue perusahaan\n",
    "            \n",
    "*******\n",
    "\n",
    "Langkah yang baik untuk meningkatkan performa model adalah meningkatkan nilai: \n",
    "\n",
    "- a. Precision Negative Score atau \n",
    "\n",
    "- b. Recall Positive Score.\n",
    "\n",
    "Dengan meningkatkan nilai (a.) Sehingga jumlah user yg diprediksi no cancel booking dan actual cancel akan menurun\n",
    "\n",
    "Dengan meningkatkan nilai (b.) Sehingga jumlah user aktual user no cancel akan semakin presisi, semakin tahu kondisi aktualnya.\n"
   ]
  },
  {
   "cell_type": "code",
   "execution_count": null,
   "metadata": {},
   "outputs": [],
   "source": []
  }
 ],
 "metadata": {
  "kernelspec": {
   "display_name": "Python 3",
   "language": "python",
   "name": "python3"
  },
  "language_info": {
   "codemirror_mode": {
    "name": "ipython",
    "version": 3
   },
   "file_extension": ".py",
   "mimetype": "text/x-python",
   "name": "python",
   "nbconvert_exporter": "python",
   "pygments_lexer": "ipython3",
   "version": "3.8.5"
  },
  "toc": {
   "base_numbering": 1,
   "nav_menu": {},
   "number_sections": false,
   "sideBar": true,
   "skip_h1_title": false,
   "title_cell": "Table of Contents",
   "title_sidebar": "Contents",
   "toc_cell": false,
   "toc_position": {
    "height": "calc(100% - 180px)",
    "left": "10px",
    "top": "150px",
    "width": "307.066px"
   },
   "toc_section_display": true,
   "toc_window_display": true
  }
 },
 "nbformat": 4,
 "nbformat_minor": 4
}
